{
 "cells": [
  {
   "cell_type": "markdown",
   "metadata": {},
   "source": [
    "This notebook is an extension to the previous _multilinear\\_bitcoin\\_regression_ notebook. The goal of the code below is to build and evaluate if a nonlinear bitcoin regression model performs better than the previous one (linear).\n",
    "<br> __Note__ This code does not contain details discussed in the previous notebook (BTC_multilinear_regression).\n",
    "\n",
    "The starting point is the best model created in the previous notebook (the time for the data is limited to the period between 05.2017 and 02.2020 and predictors like BTC volume, gold price and oil price are used). The result to beat is equal $RMSE = 2170$.\n",
    " \n",
    "This part proceeded in the following steps:\n",
    "1. Incorporation of nonlinear associations in the linear model including transformed versions of the predictors in the following form:\n",
    " $$ Y=X+\\sqrt{X} + X^2 + X^3 $$\n",
    "In other words it is evaluated if bitcoin price can be explained with nonlinear relationships with the selected predictors. \n",
    "2. Testing the model performance using:\n",
    " - the ordinary least square method (Nonlinear associations can still be evaluated with the means of ordinary least squares (OLS))\n",
    " - the lasso method (with different alpha parameters)\n",
    "<br> The model performance is evaluated by spliting the dataset into ten different train and test subsets (10-fold validation with shuffle). For each test set the root mean squared error (RMSE) is calculated and then the mean RMSE (mean of ten RMSE) is calculated. As regards the lasso method a few models with different $ \\alpha $ parameter are evaluated\n",
    "3. Comparison of calculated RMSE.\n",
    "\n",
    "The lasso method is selected as the second method because it enables some coefficients to be equal zero. <br>\n",
    "__Note__ the author is familiar with methods like _LassoCV_ and _Cross_val_score_. Nevertheless he wanted to show the necessary steps using _KFold_ function"
   ]
  },
  {
   "cell_type": "code",
   "execution_count": 1,
   "metadata": {},
   "outputs": [],
   "source": [
    "import pandas as pd\n",
    "import numpy as np\n",
    "import matplotlib.pyplot as plt\n",
    "from scipy.stats import probplot\n",
    "\n",
    "from sklearn.exceptions import ConvergenceWarning\n",
    "import warnings\n",
    "\n",
    "from sklearn.model_selection import train_test_split, KFold\n",
    "from sklearn.linear_model import Lasso, LinearRegression\n",
    "from sklearn.metrics import mean_squared_error, r2_score"
   ]
  },
  {
   "cell_type": "markdown",
   "metadata": {},
   "source": [
    "Loading the dataset and preparing it for analysis"
   ]
  },
  {
   "cell_type": "code",
   "execution_count": 2,
   "metadata": {},
   "outputs": [
    {
     "data": {
      "text/html": [
       "<div>\n",
       "<style scoped>\n",
       "    .dataframe tbody tr th:only-of-type {\n",
       "        vertical-align: middle;\n",
       "    }\n",
       "\n",
       "    .dataframe tbody tr th {\n",
       "        vertical-align: top;\n",
       "    }\n",
       "\n",
       "    .dataframe thead th {\n",
       "        text-align: right;\n",
       "    }\n",
       "</style>\n",
       "<table border=\"1\" class=\"dataframe\">\n",
       "  <thead>\n",
       "    <tr style=\"text-align: right;\">\n",
       "      <th></th>\n",
       "      <th>Volume BTC</th>\n",
       "      <th>Gold price[USD]</th>\n",
       "      <th>Oil WTI price[USD]</th>\n",
       "    </tr>\n",
       "    <tr>\n",
       "      <th>Date</th>\n",
       "      <th></th>\n",
       "      <th></th>\n",
       "      <th></th>\n",
       "    </tr>\n",
       "  </thead>\n",
       "  <tbody>\n",
       "    <tr>\n",
       "      <td>2017-05-01</td>\n",
       "      <td>16970.38</td>\n",
       "      <td>1322.5</td>\n",
       "      <td>48.83</td>\n",
       "    </tr>\n",
       "    <tr>\n",
       "      <td>2017-05-02</td>\n",
       "      <td>11924.59</td>\n",
       "      <td>1324.0</td>\n",
       "      <td>47.65</td>\n",
       "    </tr>\n",
       "    <tr>\n",
       "      <td>2017-05-03</td>\n",
       "      <td>16309.77</td>\n",
       "      <td>1315.5</td>\n",
       "      <td>47.79</td>\n",
       "    </tr>\n",
       "    <tr>\n",
       "      <td>2017-05-04</td>\n",
       "      <td>26688.81</td>\n",
       "      <td>1295.3</td>\n",
       "      <td>45.55</td>\n",
       "    </tr>\n",
       "    <tr>\n",
       "      <td>2017-05-05</td>\n",
       "      <td>16885.42</td>\n",
       "      <td>1293.7</td>\n",
       "      <td>46.23</td>\n",
       "    </tr>\n",
       "    <tr>\n",
       "      <td>...</td>\n",
       "      <td>...</td>\n",
       "      <td>...</td>\n",
       "      <td>...</td>\n",
       "    </tr>\n",
       "    <tr>\n",
       "      <td>2020-01-27</td>\n",
       "      <td>9424.43</td>\n",
       "      <td>1589.5</td>\n",
       "      <td>53.09</td>\n",
       "    </tr>\n",
       "    <tr>\n",
       "      <td>2020-01-28</td>\n",
       "      <td>16365.39</td>\n",
       "      <td>1581.7</td>\n",
       "      <td>53.33</td>\n",
       "    </tr>\n",
       "    <tr>\n",
       "      <td>2020-01-29</td>\n",
       "      <td>12035.69</td>\n",
       "      <td>1582.0</td>\n",
       "      <td>53.29</td>\n",
       "    </tr>\n",
       "    <tr>\n",
       "      <td>2020-01-30</td>\n",
       "      <td>11818.13</td>\n",
       "      <td>1595.1</td>\n",
       "      <td>52.19</td>\n",
       "    </tr>\n",
       "    <tr>\n",
       "      <td>2020-01-31</td>\n",
       "      <td>9435.38</td>\n",
       "      <td>1593.8</td>\n",
       "      <td>51.58</td>\n",
       "    </tr>\n",
       "  </tbody>\n",
       "</table>\n",
       "<p>680 rows × 3 columns</p>\n",
       "</div>"
      ],
      "text/plain": [
       "            Volume BTC  Gold price[USD]  Oil WTI price[USD]\n",
       "Date                                                       \n",
       "2017-05-01    16970.38           1322.5               48.83\n",
       "2017-05-02    11924.59           1324.0               47.65\n",
       "2017-05-03    16309.77           1315.5               47.79\n",
       "2017-05-04    26688.81           1295.3               45.55\n",
       "2017-05-05    16885.42           1293.7               46.23\n",
       "...                ...              ...                 ...\n",
       "2020-01-27     9424.43           1589.5               53.09\n",
       "2020-01-28    16365.39           1581.7               53.33\n",
       "2020-01-29    12035.69           1582.0               53.29\n",
       "2020-01-30    11818.13           1595.1               52.19\n",
       "2020-01-31     9435.38           1593.8               51.58\n",
       "\n",
       "[680 rows x 3 columns]"
      ]
     },
     "execution_count": 2,
     "metadata": {},
     "output_type": "execute_result"
    }
   ],
   "source": [
    "data=pd.read_csv('BTC_data.csv',index_col='Date')\n",
    "data.index=pd.to_datetime(data.index,format='%Y-%m-%d')\n",
    "date_mask = (data.index >= pd.to_datetime('2017-05-01')) & (data.index < pd.to_datetime('2020-02-01'))\n",
    "data = data[date_mask]\n",
    "y=data['BTC price [USD]']\n",
    "X=data[['Volume BTC','Gold price[USD]','Oil WTI price[USD]']]\n",
    "X"
   ]
  },
  {
   "cell_type": "markdown",
   "metadata": {},
   "source": [
    "Adding nonlinear termn do the dataset"
   ]
  },
  {
   "cell_type": "code",
   "execution_count": 3,
   "metadata": {},
   "outputs": [],
   "source": [
    "X_nonlinear=X.copy()\n",
    "scale=['square root','squared','cubed']\n",
    "scale_num=[0.5,2,3]\n",
    "for i in X_nonlinear.columns:\n",
    "    for j,k in zip(scale,scale_num):\n",
    "        name = j + \" \" + str(i)  \n",
    "        X_nonlinear[name]=X_nonlinear[i]**k"
   ]
  },
  {
   "cell_type": "code",
   "execution_count": 4,
   "metadata": {},
   "outputs": [
    {
     "data": {
      "text/html": [
       "<div>\n",
       "<style scoped>\n",
       "    .dataframe tbody tr th:only-of-type {\n",
       "        vertical-align: middle;\n",
       "    }\n",
       "\n",
       "    .dataframe tbody tr th {\n",
       "        vertical-align: top;\n",
       "    }\n",
       "\n",
       "    .dataframe thead th {\n",
       "        text-align: right;\n",
       "    }\n",
       "</style>\n",
       "<table border=\"1\" class=\"dataframe\">\n",
       "  <thead>\n",
       "    <tr style=\"text-align: right;\">\n",
       "      <th></th>\n",
       "      <th>Volume BTC</th>\n",
       "      <th>Gold price[USD]</th>\n",
       "      <th>Oil WTI price[USD]</th>\n",
       "      <th>square root Volume BTC</th>\n",
       "      <th>squared Volume BTC</th>\n",
       "      <th>cubed Volume BTC</th>\n",
       "      <th>square root Gold price[USD]</th>\n",
       "      <th>squared Gold price[USD]</th>\n",
       "      <th>cubed Gold price[USD]</th>\n",
       "      <th>square root Oil WTI price[USD]</th>\n",
       "      <th>squared Oil WTI price[USD]</th>\n",
       "      <th>cubed Oil WTI price[USD]</th>\n",
       "    </tr>\n",
       "    <tr>\n",
       "      <th>Date</th>\n",
       "      <th></th>\n",
       "      <th></th>\n",
       "      <th></th>\n",
       "      <th></th>\n",
       "      <th></th>\n",
       "      <th></th>\n",
       "      <th></th>\n",
       "      <th></th>\n",
       "      <th></th>\n",
       "      <th></th>\n",
       "      <th></th>\n",
       "      <th></th>\n",
       "    </tr>\n",
       "  </thead>\n",
       "  <tbody>\n",
       "    <tr>\n",
       "      <td>2017-05-01</td>\n",
       "      <td>16970.38</td>\n",
       "      <td>1322.5</td>\n",
       "      <td>48.83</td>\n",
       "      <td>130.270411</td>\n",
       "      <td>2.879938e+08</td>\n",
       "      <td>4.887364e+12</td>\n",
       "      <td>36.366193</td>\n",
       "      <td>1749006.25</td>\n",
       "      <td>2.313061e+09</td>\n",
       "      <td>6.987847</td>\n",
       "      <td>2384.3689</td>\n",
       "      <td>116428.733387</td>\n",
       "    </tr>\n",
       "    <tr>\n",
       "      <td>2017-05-02</td>\n",
       "      <td>11924.59</td>\n",
       "      <td>1324.0</td>\n",
       "      <td>47.65</td>\n",
       "      <td>109.199771</td>\n",
       "      <td>1.421958e+08</td>\n",
       "      <td>1.695627e+12</td>\n",
       "      <td>36.386811</td>\n",
       "      <td>1752976.00</td>\n",
       "      <td>2.320940e+09</td>\n",
       "      <td>6.902898</td>\n",
       "      <td>2270.5225</td>\n",
       "      <td>108190.397125</td>\n",
       "    </tr>\n",
       "    <tr>\n",
       "      <td>2017-05-03</td>\n",
       "      <td>16309.77</td>\n",
       "      <td>1315.5</td>\n",
       "      <td>47.79</td>\n",
       "      <td>127.709710</td>\n",
       "      <td>2.660086e+08</td>\n",
       "      <td>4.338539e+12</td>\n",
       "      <td>36.269822</td>\n",
       "      <td>1730540.25</td>\n",
       "      <td>2.276526e+09</td>\n",
       "      <td>6.913031</td>\n",
       "      <td>2283.8841</td>\n",
       "      <td>109146.821139</td>\n",
       "    </tr>\n",
       "    <tr>\n",
       "      <td>2017-05-04</td>\n",
       "      <td>26688.81</td>\n",
       "      <td>1295.3</td>\n",
       "      <td>45.55</td>\n",
       "      <td>163.367102</td>\n",
       "      <td>7.122926e+08</td>\n",
       "      <td>1.901024e+13</td>\n",
       "      <td>35.990276</td>\n",
       "      <td>1677802.09</td>\n",
       "      <td>2.173257e+09</td>\n",
       "      <td>6.749074</td>\n",
       "      <td>2074.8025</td>\n",
       "      <td>94507.253875</td>\n",
       "    </tr>\n",
       "    <tr>\n",
       "      <td>2017-05-05</td>\n",
       "      <td>16885.42</td>\n",
       "      <td>1293.7</td>\n",
       "      <td>46.23</td>\n",
       "      <td>129.943911</td>\n",
       "      <td>2.851174e+08</td>\n",
       "      <td>4.814327e+12</td>\n",
       "      <td>35.968041</td>\n",
       "      <td>1673659.69</td>\n",
       "      <td>2.165214e+09</td>\n",
       "      <td>6.799265</td>\n",
       "      <td>2137.2129</td>\n",
       "      <td>98803.352367</td>\n",
       "    </tr>\n",
       "  </tbody>\n",
       "</table>\n",
       "</div>"
      ],
      "text/plain": [
       "            Volume BTC  Gold price[USD]  Oil WTI price[USD]  \\\n",
       "Date                                                          \n",
       "2017-05-01    16970.38           1322.5               48.83   \n",
       "2017-05-02    11924.59           1324.0               47.65   \n",
       "2017-05-03    16309.77           1315.5               47.79   \n",
       "2017-05-04    26688.81           1295.3               45.55   \n",
       "2017-05-05    16885.42           1293.7               46.23   \n",
       "\n",
       "            square root Volume BTC  squared Volume BTC  cubed Volume BTC  \\\n",
       "Date                                                                       \n",
       "2017-05-01              130.270411        2.879938e+08      4.887364e+12   \n",
       "2017-05-02              109.199771        1.421958e+08      1.695627e+12   \n",
       "2017-05-03              127.709710        2.660086e+08      4.338539e+12   \n",
       "2017-05-04              163.367102        7.122926e+08      1.901024e+13   \n",
       "2017-05-05              129.943911        2.851174e+08      4.814327e+12   \n",
       "\n",
       "            square root Gold price[USD]  squared Gold price[USD]  \\\n",
       "Date                                                               \n",
       "2017-05-01                    36.366193               1749006.25   \n",
       "2017-05-02                    36.386811               1752976.00   \n",
       "2017-05-03                    36.269822               1730540.25   \n",
       "2017-05-04                    35.990276               1677802.09   \n",
       "2017-05-05                    35.968041               1673659.69   \n",
       "\n",
       "            cubed Gold price[USD]  square root Oil WTI price[USD]  \\\n",
       "Date                                                                \n",
       "2017-05-01           2.313061e+09                        6.987847   \n",
       "2017-05-02           2.320940e+09                        6.902898   \n",
       "2017-05-03           2.276526e+09                        6.913031   \n",
       "2017-05-04           2.173257e+09                        6.749074   \n",
       "2017-05-05           2.165214e+09                        6.799265   \n",
       "\n",
       "            squared Oil WTI price[USD]  cubed Oil WTI price[USD]  \n",
       "Date                                                              \n",
       "2017-05-01                   2384.3689             116428.733387  \n",
       "2017-05-02                   2270.5225             108190.397125  \n",
       "2017-05-03                   2283.8841             109146.821139  \n",
       "2017-05-04                   2074.8025              94507.253875  \n",
       "2017-05-05                   2137.2129              98803.352367  "
      ]
     },
     "execution_count": 4,
     "metadata": {},
     "output_type": "execute_result"
    }
   ],
   "source": [
    "X_nonlinear.head()"
   ]
  },
  {
   "cell_type": "markdown",
   "metadata": {},
   "source": [
    "Firstly the performance of the nonlinear model is evaluated by the __ordinary least square method__"
   ]
  },
  {
   "cell_type": "code",
   "execution_count": 5,
   "metadata": {},
   "outputs": [],
   "source": [
    "kf=KFold(n_splits=10,shuffle=True,random_state=1)\n",
    "RMSE_lr=[]\n",
    "\n",
    "#linear model is evaluated 10 times in this loop\n",
    "for train_idx, test_idx in kf.split(X_nonlinear):\n",
    "    x_train=X_nonlinear.iloc[train_idx,:]\n",
    "    x_test=X_nonlinear.iloc[test_idx,:]\n",
    "    y_train=y.iloc[train_idx]\n",
    "    y_test=y.iloc[test_idx]\n",
    "    linear_regression_model=LinearRegression()\n",
    "    linear_regression_model.fit(x_train,y_train)\n",
    "    y_pred_linear_regression=linear_regression_model.predict(x_test)\n",
    "    RMSE_lr.append(mean_squared_error(y_test,y_pred_linear_regression,squared=False))"
   ]
  },
  {
   "cell_type": "code",
   "execution_count": 6,
   "metadata": {},
   "outputs": [
    {
     "name": "stdout",
     "output_type": "stream",
     "text": [
      "root mean squared error for linear regression: \n",
      "1 cross validation, RSE: 2474.458890230513\n",
      "2 cross validation, RSE: 1428.328286104765\n",
      "3 cross validation, RSE: 2227.459832753075\n",
      "4 cross validation, RSE: 1627.606956476539\n",
      "5 cross validation, RSE: 2275.6069509531344\n",
      "6 cross validation, RSE: 1742.6926460284878\n",
      "7 cross validation, RSE: 2688.839704651382\n",
      "8 cross validation, RSE: 2352.77309733239\n",
      "9 cross validation, RSE: 2229.3284064637965\n",
      "10 cross validation, RSE: 2083.1021253568892\n",
      "\n",
      "the mean RMSE equals 2113.019689635097\n"
     ]
    }
   ],
   "source": [
    "print('root mean squared error for linear regression: ')\n",
    "[ print('{} cross validation, RSE: {}'.format(i,j)) for i,j in enumerate(np.array(RMSE_lr),start=1)]\n",
    "print('\\nthe mean RMSE equals {}'.format(np.array(RMSE_lr).mean()))"
   ]
  },
  {
   "cell_type": "markdown",
   "metadata": {},
   "source": [
    "Next __the lasso method__ is used."
   ]
  },
  {
   "cell_type": "code",
   "execution_count": 7,
   "metadata": {},
   "outputs": [],
   "source": [
    "#first it is check what order of magnitude is propoer for the alpha value in the lasso method\n",
    "alphas=np.array([0.01,0.1,1,10,100,1000])\n",
    "RMSE_lasso= []\n",
    "\n",
    "warnings.filterwarnings(\"ignore\", category=ConvergenceWarning, module=\"sklearn\")\n",
    "\n",
    "for train_idx, test_idx in kf.split(X_nonlinear):  \n",
    "    x_train=X_nonlinear.iloc[train_idx,:]\n",
    "    x_test=X_nonlinear.iloc[test_idx,:]\n",
    "    y_train=y.iloc[train_idx]\n",
    "    y_test=y.iloc[test_idx]\n",
    "    \n",
    "    #for each train-test split lasso with six different alpha values is examinated\n",
    "    RMSE=[]\n",
    "    for k in alphas:\n",
    "        model_lasso=Lasso(alpha=k,max_iter=1e6,tol=0.0001)\n",
    "        model_lasso.fit(x_train,y_train)\n",
    "        \n",
    "        y_pred_lasso=model_lasso.predict(x_test)\n",
    "        RMSE.append(mean_squared_error(y_test,y_pred_lasso,squared=False))\n",
    "        \n",
    "\n",
    "    RMSE_lasso.append(np.array(RMSE))"
   ]
  },
  {
   "cell_type": "code",
   "execution_count": 8,
   "metadata": {},
   "outputs": [
    {
     "name": "stdout",
     "output_type": "stream",
     "text": [
      "root mean squared error for the lasso method for different alpha: \n",
      "for alpha equal to 0.01 mean RMSE for lasso equals 2114.4400464909822\n",
      "for alpha equal to 0.1 mean RMSE for lasso equals 2117.2596275206847\n",
      "for alpha equal to 1.0 mean RMSE for lasso equals 2118.8568664723734\n",
      "for alpha equal to 10.0 mean RMSE for lasso equals 2128.2931091428895\n",
      "for alpha equal to 100.0 mean RMSE for lasso equals 2132.3293334229043\n",
      "for alpha equal to 1000.0 mean RMSE for lasso equals 2130.1331637785233\n"
     ]
    }
   ],
   "source": [
    "np.array(RMSE_lasso).mean(axis=0)\n",
    "print('root mean squared error for the lasso method for different alpha: ')\n",
    "for i,j in zip(alphas,np.array(RMSE_lasso).mean(axis=0)):\n",
    "    print('for alpha equal to {} mean RMSE for lasso equals {}'.format(i,j)) \n"
   ]
  },
  {
   "cell_type": "markdown",
   "metadata": {},
   "source": [
    "It seems that 0.01 alpha value has the lowest RMSE. Next it is examinated further\n"
   ]
  },
  {
   "cell_type": "code",
   "execution_count": 9,
   "metadata": {},
   "outputs": [],
   "source": [
    "alphas2=np.array([0.001,0.0025,0.005,0.0075,0.01,0.0125,0.015,0.0175,0.02])\n",
    "RMSE_lasso2=[]\n",
    "for train_idx, test_idx in kf.split(X_nonlinear):  \n",
    "    x_train=X_nonlinear.iloc[train_idx,:]\n",
    "    x_test=X_nonlinear.iloc[test_idx,:]\n",
    "    y_train=y.iloc[train_idx]\n",
    "    y_test=y.iloc[test_idx]\n",
    "    \n",
    "    #for each train-test split lasso with six different alpha values is examinated\n",
    "    RMSE=[]\n",
    "    for k in alphas2:\n",
    "        model_lasso=Lasso(alpha=k,max_iter=1e6,tol=0.0001)\n",
    "        model_lasso.fit(x_train,y_train)\n",
    "        y_pred_lasso=model_lasso.predict(x_test)\n",
    "        RMSE.append(mean_squared_error(y_test,y_pred_lasso,squared=False))\n",
    "\n",
    "    RMSE_lasso2.append(np.array(RMSE))"
   ]
  },
  {
   "cell_type": "code",
   "execution_count": 10,
   "metadata": {},
   "outputs": [
    {
     "name": "stdout",
     "output_type": "stream",
     "text": [
      "root mean squared error for the lasso method for different alpha: \n",
      "for alpha equal to 0.001 mean RMSE for lasso equals 2114.122800914846\n",
      "for alpha equal to 0.0025 mean RMSE for lasso equals 2114.1713269363236\n",
      "for alpha equal to 0.005 mean RMSE for lasso equals 2114.2563166086893\n",
      "for alpha equal to 0.0075 mean RMSE for lasso equals 2114.3460297708234\n",
      "for alpha equal to 0.01 mean RMSE for lasso equals 2114.4400464909822\n",
      "for alpha equal to 0.0125 mean RMSE for lasso equals 2114.5379662268924\n",
      "for alpha equal to 0.015 mean RMSE for lasso equals 2114.638910909979\n",
      "for alpha equal to 0.0175 mean RMSE for lasso equals 2114.74230730765\n",
      "for alpha equal to 0.02 mean RMSE for lasso equals 2114.8478911606417\n"
     ]
    }
   ],
   "source": [
    "np.array(RMSE_lasso2).mean(axis=0)\n",
    "print('root mean squared error for the lasso method for different alpha: ')\n",
    "for i,j in zip(alphas2,np.array(RMSE_lasso2).mean(axis=0)):\n",
    "    print('for alpha equal to {} mean RMSE for lasso equals {}'.format(i,j))"
   ]
  },
  {
   "cell_type": "code",
   "execution_count": 15,
   "metadata": {},
   "outputs": [
    {
     "data": {
      "text/html": [
       "<div>\n",
       "<style scoped>\n",
       "    .dataframe tbody tr th:only-of-type {\n",
       "        vertical-align: middle;\n",
       "    }\n",
       "\n",
       "    .dataframe tbody tr th {\n",
       "        vertical-align: top;\n",
       "    }\n",
       "\n",
       "    .dataframe thead th {\n",
       "        text-align: right;\n",
       "    }\n",
       "</style>\n",
       "<table border=\"1\" class=\"dataframe\">\n",
       "  <thead>\n",
       "    <tr style=\"text-align: right;\">\n",
       "      <th></th>\n",
       "      <th>linear model</th>\n",
       "      <th>nonlinear model - OLS</th>\n",
       "      <th>nonlinear model - lasso</th>\n",
       "    </tr>\n",
       "  </thead>\n",
       "  <tbody>\n",
       "    <tr>\n",
       "      <td>RMSE</td>\n",
       "      <td>2170.0</td>\n",
       "      <td>2113.02</td>\n",
       "      <td>2114.44</td>\n",
       "    </tr>\n",
       "  </tbody>\n",
       "</table>\n",
       "</div>"
      ],
      "text/plain": [
       "      linear model  nonlinear model - OLS  nonlinear model - lasso\n",
       "RMSE        2170.0                2113.02                  2114.44"
      ]
     },
     "execution_count": 15,
     "metadata": {},
     "output_type": "execute_result"
    }
   ],
   "source": [
    "summary=pd.DataFrame(columns=['linear model','nonlinear model - OLS','nonlinear model - lasso'])\n",
    "summary=summary.append({'linear model':2170,\n",
    "                        'nonlinear model - OLS':round(np.array(RMSE_lr).mean(),2),\n",
    "                        'nonlinear model - lasso':round(np.array(RMSE_lasso).mean(axis=0).min(),2)},ignore_index=True)\n",
    "summary.index=np.array(['RMSE'])\n",
    "summary"
   ]
  },
  {
   "cell_type": "markdown",
   "metadata": {},
   "source": [
    "### The conclusion\n",
<<<<<<< HEAD
    "- the improvement resulting from adding nonlinear terms is meaningless.  The RMSE dropped from 2170 to 2114 which is about 2\\%. No further examination is necessary. __Note:__ No improvement of the lasso method was predictable. This method is usefull when number of predictors is close to number of observations. It did not take place here.\n",
=======
    "- the improvement resulting from adding nonlinear terms is meaningless.  The RMSE dropped from 2170 to 2128 (for the lasso method with $ \\alpha = 0.001 $) which is about 2\\%. No further examination is necessary. __Note:__ Meaningless improvement of the lasso method was predictable. This method is usefull when number of predictors is close to number of observations. It did not take place here.\n",
>>>>>>> 7c7033e47ae217e65656c347b7d5249e81f2185e
    "- the general conclusion is as follows: it is impossible to build a reliable and useful model for bitcoin price prediction (using main market assets) with the means of linear and nonlinear regression, tree-based methods would be a better solution what will be evaluated in the future"
   ]
  }
 ],
 "metadata": {
  "kernelspec": {
   "display_name": "Python 3",
   "language": "python",
   "name": "python3"
  },
  "language_info": {
   "codemirror_mode": {
    "name": "ipython",
    "version": 3
   },
   "file_extension": ".py",
   "mimetype": "text/x-python",
   "name": "python",
   "nbconvert_exporter": "python",
   "pygments_lexer": "ipython3",
   "version": "3.7.4"
  }
 },
 "nbformat": 4,
 "nbformat_minor": 2
}
