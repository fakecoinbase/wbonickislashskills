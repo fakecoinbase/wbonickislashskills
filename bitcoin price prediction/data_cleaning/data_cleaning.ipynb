{
 "cells": [
  {
   "cell_type": "markdown",
   "metadata": {},
   "source": [
    "### Data merging and cleaning\n",
    "\n",
    "In this notebook the dataset for analysis is created. The following features are collected:\n",
    " - bitcoin price (using https://www.blockchain.com/api )\n",
    " - the total number of confirmed transactions per day (using https://www.blockchain.com/api )\n",
    " - average transaction fees in USD per bitcoin transaction (downloaded manually, API does not work)\n",
    " - gold ounce price (downloaded manually)\n",
    " - oil WTI price (downloaded manually)\n",
    " - S&P 500 index (downloaded manually)\n",
    " - M2 money supply (downloaded manually)\n",
    " - google bitcoin trends search (downloaded manually)\n",
    " \n",
    "The data of bitcoin transaction fees is divided into two periods - for the last three years the data is for every day and before this period the data is for every three days (this is due to the website capabilities)"
   ]
  },
  {
   "cell_type": "code",
   "execution_count": 75,
   "metadata": {},
   "outputs": [],
   "source": [
    "import pandas as pd\n",
    "import numpy as np\n",
    "from functools import reduce\n",
    "import matplotlib.pyplot as plt\n",
    "import requests\n",
    "import json\n",
    "from datetime import datetime"
   ]
  },
  {
   "cell_type": "markdown",
   "metadata": {},
   "source": [
    "#### Bitcoin price and the total number of confirmed transactions per day"
   ]
  },
  {
   "cell_type": "code",
   "execution_count": 76,
   "metadata": {},
   "outputs": [],
   "source": [
    "#function for collecting data from the website\n",
    "def get_data(chartName,start_date,timespan,data_name):\n",
    "    API_URL = \"https://api.blockchain.info/charts/\"+chartName\n",
    "    search = {\n",
    "        \"timespan\": timespan,\n",
    "        \"start\": start_date,\n",
    "        \"format\":\"json\"\n",
    "     }\n",
    "\n",
    "    response = requests.get(API_URL,search)\n",
    "    data=response.json()\n",
    "    \n",
    "    data_df=pd.DataFrame(columns=[data_name,'Date'])\n",
    "    for i in data['values']:\n",
    "\n",
    "        data_df=data_df.append({data_name:float(i['y']),'Date':i['x']},ignore_index=True)\n",
    "\n",
    "    data_df['Date']=data_df['Date'].apply(lambda x: datetime.utcfromtimestamp(x).strftime('%Y-%m-%d'))\n",
    "    data_df['Date']=pd.to_datetime(data_df['Date'],format='%Y-%m-%d')\n",
    "    data_df.set_index('Date',drop=True,inplace=True)\n",
    "    return data_df"
   ]
  },
  {
   "cell_type": "code",
   "execution_count": 77,
   "metadata": {},
   "outputs": [],
   "source": [
    "#collecting the data\n",
    "data_to_collect=['market-price','n-transactions']\n",
    "start_date='2014-01-01'\n",
    "time_period='3year'\n",
    "btc_data_1=pd.DataFrame(columns=data_to_collect)\n",
    "for i in data_to_collect[:3]:\n",
    "    df_temp=get_data(i,start_date,time_period,i)\n",
    "    btc_data_1[i]=df_temp.iloc[:,0]\n",
    "    del df_temp\n",
    "\n",
    "start_date='2017-01-01'\n",
    "time_period='4year'\n",
    "btc_data_2=pd.DataFrame(columns=data_to_collect)\n",
    "for i in data_to_collect[:3]:\n",
    "    df_temp=get_data(i,start_date,time_period,i)\n",
    "    btc_data_2[i]=df_temp.iloc[:,0]\n",
    "    del df_temp\n",
    "    \n",
    "btc_data=pd.concat([btc_data_1,btc_data_2],axis=0)\n",
    "btc_data.rename(columns={'market-price':'BTC price [USD]'},inplace=True)"
   ]
  },
  {
   "cell_type": "markdown",
   "metadata": {},
   "source": [
    "#### Transaction fees  "
   ]
  },
  {
   "cell_type": "code",
   "execution_count": 78,
   "metadata": {},
   "outputs": [],
   "source": [
    "fees3=pd.read_csv(\"fees-usd-per-transaction3Years.csv\")\n",
    "fees3['Date']=pd.to_datetime(fees3['Timestamp'],format='%Y-%m-%d').dt.date.astype('datetime64')\n",
    "fees3.set_index('Date',drop=True,inplace=True)\n",
    "fees3.drop('Timestamp',axis=1,inplace=True)\n",
    "\n",
    "feesAllTime=pd.read_csv(\"fees-usd-per-transactionAllTime.csv\")\n",
    "feesAllTime['Date']=pd.to_datetime(feesAllTime['Timestamp'],format='%Y-%m-%d').dt.date.astype('datetime64')\n",
    "feesAllTime.set_index('Date',drop=True,inplace=True)\n",
    "feesAllTime.drop('Timestamp',axis=1,inplace=True)\n",
    "\n",
    "date_mask =feesAllTime.index < fees3.index.min()\n",
    "\n",
    "fees=pd.concat([feesAllTime[date_mask],fees3],axis=0)\n",
    "fees.rename(columns={'fees-usd-per-transaction':'fee [USD]'},inplace=True)"
   ]
  },
  {
   "cell_type": "markdown",
   "metadata": {},
   "source": [
    "__Gold ounce price__"
   ]
  },
  {
   "cell_type": "code",
   "execution_count": 79,
   "metadata": {},
   "outputs": [],
   "source": [
    "gold=pd.read_csv('Gold Futures Historical Data20102020maj.csv')\n",
    "gold['Date']=pd.to_datetime(gold['Date'],format='%b %d, %Y')\n",
    "gold.set_index('Date',drop=True,inplace=True)\n",
    "gold.drop(columns=gold.iloc[:,1:],inplace=True)\n",
    "gold.rename(columns={'Price':'Gold price[USD]'},inplace=True)\n",
    "gold=gold.iloc[::-1,:]\n",
    "\n",
    "gold['Gold price[USD]']=gold['Gold price[USD]'].str.replace(\",\",\"\").astype(float)"
   ]
  },
  {
   "cell_type": "markdown",
   "metadata": {},
   "source": [
    "__Oil WTI price__"
   ]
  },
  {
   "cell_type": "code",
   "execution_count": 80,
   "metadata": {},
   "outputs": [],
   "source": [
    "oil=pd.read_csv('wti-daily_csv.csv')\n",
    "oil['Date']=pd.to_datetime(oil['Date'],format='%Y-%m-%d')\n",
    "oil.set_index('Date',drop=True,inplace=True)\n",
    "oil.rename(columns={'Price':'Oil WTI price[USD]'},inplace=True)"
   ]
  },
  {
   "cell_type": "markdown",
   "metadata": {},
   "source": [
    "__M2 money supply in the USA__"
   ]
  },
  {
   "cell_type": "code",
   "execution_count": 81,
   "metadata": {},
   "outputs": [],
   "source": [
    "M2=pd.read_csv('FRB_H6.csv')\n",
    "M2.drop(index=[0,1,2,3,4],columns=M2.iloc[:,1:4],inplace=True)\n",
    "may20 = {'Series Description':'2020-05', 'M2; Not seasonally adjusted':0}\n",
    "M2 = M2.append(may20, ignore_index=True)\n",
    "M2['Series Description']=pd.to_datetime(M2['Series Description'],format='%Y-%m')\n",
    "M2.rename(columns={'Series Description':'Date','M2; Not seasonally adjusted':'M2(Not seasonally adjusted)[1e+09 USD]'},inplace=True)\n",
    "M2.set_index('Date',drop=True,inplace=True)\n",
    "M2=M2.resample('D').ffill()\n",
    "M2.drop(index=[M2.index[-1]],inplace=True)\n",
    "M2['M2(Not seasonally adjusted)[1e+09 USD]']=M2['M2(Not seasonally adjusted)[1e+09 USD]'].astype(float)"
   ]
  },
  {
   "cell_type": "markdown",
   "metadata": {},
   "source": [
    "__S&P500 index__"
   ]
  },
  {
   "cell_type": "code",
   "execution_count": 82,
   "metadata": {},
   "outputs": [],
   "source": [
    "SP500=pd.read_csv('GSPC.csv')\n",
    "SP500['Date']=pd.to_datetime(SP500['Date'],format='%Y-%m-%d')\n",
    "SP500.set_index('Date',drop=True,inplace=True)\n",
    "SP500.drop(columns=SP500.iloc[:,:3],inplace=True)\n",
    "SP500.drop(columns=SP500.iloc[:,1:],inplace=True)\n",
    "SP500.rename(columns={'Close':'SP500 close index'},inplace=True)"
   ]
  },
  {
   "cell_type": "markdown",
   "metadata": {},
   "source": [
    "__Bitcoin Google search trends__"
   ]
  },
  {
   "cell_type": "code",
   "execution_count": 83,
   "metadata": {},
   "outputs": [],
   "source": [
    "search_interest=pd.read_csv(\"multiTimeline.csv\",skiprows=1)\n",
    "search_interest['Month']=pd.to_datetime(search_interest['Month'],format='%Y-%m-%d')\n",
    "search_interest.set_index('Month',drop=True,inplace=True)\n",
    "search_interest.index.name='Date'\n",
    "search_interest.rename(columns={'bitcoin: (Worldwide)':'btc search trends'},inplace=True)\n",
    "search_interest=search_interest.resample('D').ffill()"
   ]
  },
  {
   "cell_type": "markdown",
   "metadata": {},
   "source": [
    "__Merging datasets__"
   ]
  },
  {
   "cell_type": "code",
   "execution_count": 84,
   "metadata": {},
   "outputs": [],
   "source": [
    "def merg(df1,df2,how='left',on='Date'):\n",
    "    df_res=pd.merge(df1,df2,how=how,on=on)\n",
    "    return df_res\n",
    "\n",
    "dfs=[btc_data,fees,search_interest,gold,SP500,oil,M2]\n",
    "dataset=reduce(merg, dfs)"
   ]
  },
  {
   "cell_type": "code",
   "execution_count": 85,
   "metadata": {},
   "outputs": [],
   "source": [
    "date_mask_cut=(dataset.index < pd.to_datetime(\"2020-04-30\")) & (dataset.index > pd.to_datetime(\"2014-01-01\"))\n",
    "dataset=dataset[date_mask_cut]"
   ]
  },
  {
   "cell_type": "code",
   "execution_count": 86,
   "metadata": {},
   "outputs": [],
   "source": [
    "dataset=dataset.round(decimals=2)\n",
    "dataset.to_csv('Bitcoin_dataset_updated.csv',index=True)"
   ]
  }
 ],
 "metadata": {
  "kernelspec": {
   "display_name": "Python 3",
   "language": "python",
   "name": "python3"
  },
  "language_info": {
   "codemirror_mode": {
    "name": "ipython",
    "version": 3
   },
   "file_extension": ".py",
   "mimetype": "text/x-python",
   "name": "python",
   "nbconvert_exporter": "python",
   "pygments_lexer": "ipython3",
   "version": "3.7.4"
  }
 },
 "nbformat": 4,
 "nbformat_minor": 2
}
