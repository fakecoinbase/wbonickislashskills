{
 "cells": [
  {
   "cell_type": "markdown",
   "metadata": {},
   "source": [
    "### Skrypt stwarzający tabelę z objaśnieniami kodów PKD pobranymi ze strony internetowej"
   ]
  },
  {
   "cell_type": "code",
   "execution_count": 1,
   "metadata": {},
   "outputs": [],
   "source": [
    "from bs4 import BeautifulSoup\n",
    "import requests\n",
    "import pandas as pd"
   ]
  },
  {
   "cell_type": "code",
   "execution_count": 2,
   "metadata": {},
   "outputs": [],
   "source": [
    "source = requests.get('http://www.pkd.com.pl/wyszukiwarka/lista_pkd;jsessionid=755720A1FB991DBAE9B0CD0512D9FD32.tomkatowy03').text\n",
    "soup = BeautifulSoup(source, 'lxml')"
   ]
  },
  {
   "cell_type": "code",
   "execution_count": 3,
   "metadata": {},
   "outputs": [],
   "source": [
    "#stworzenie pustej tabeli\n",
    "kody=pd.DataFrame(columns=['kod','opis'])"
   ]
  },
  {
   "cell_type": "code",
   "execution_count": 4,
   "metadata": {},
   "outputs": [],
   "source": [
    "#przeszukiwanie strony www i zapisywanie potrzebnych danych\n",
    "results=soup.find_all('tr',class_='symbol')\n",
    "for r in results:\n",
    "    kody = kody.append({'kod': r.contents[9].text[4:], 'opis':r.contents[11].text[1:]}, ignore_index=True)"
   ]
  },
  {
   "cell_type": "code",
   "execution_count": 5,
   "metadata": {},
   "outputs": [
    {
     "data": {
      "text/html": [
       "<div>\n",
       "<style scoped>\n",
       "    .dataframe tbody tr th:only-of-type {\n",
       "        vertical-align: middle;\n",
       "    }\n",
       "\n",
       "    .dataframe tbody tr th {\n",
       "        vertical-align: top;\n",
       "    }\n",
       "\n",
       "    .dataframe thead th {\n",
       "        text-align: right;\n",
       "    }\n",
       "</style>\n",
       "<table border=\"1\" class=\"dataframe\">\n",
       "  <thead>\n",
       "    <tr style=\"text-align: right;\">\n",
       "      <th></th>\n",
       "      <th>kod</th>\n",
       "      <th>opis</th>\n",
       "    </tr>\n",
       "  </thead>\n",
       "  <tbody>\n",
       "    <tr>\n",
       "      <td>0</td>\n",
       "      <td>01.11.Z</td>\n",
       "      <td>Uprawa zbóż, roślin strączkowych i roślin olei...</td>\n",
       "    </tr>\n",
       "    <tr>\n",
       "      <td>1</td>\n",
       "      <td>01.12.Z</td>\n",
       "      <td>Uprawa ryżu</td>\n",
       "    </tr>\n",
       "    <tr>\n",
       "      <td>2</td>\n",
       "      <td>01.13.Z</td>\n",
       "      <td>Uprawa warzyw, włączając melony oraz uprawa ro...</td>\n",
       "    </tr>\n",
       "    <tr>\n",
       "      <td>3</td>\n",
       "      <td>01.14.Z</td>\n",
       "      <td>Uprawa trzciny cukrowej</td>\n",
       "    </tr>\n",
       "    <tr>\n",
       "      <td>4</td>\n",
       "      <td>01.15.Z</td>\n",
       "      <td>Uprawa tytoniu</td>\n",
       "    </tr>\n",
       "  </tbody>\n",
       "</table>\n",
       "</div>"
      ],
      "text/plain": [
       "       kod                                               opis\n",
       "0  01.11.Z  Uprawa zbóż, roślin strączkowych i roślin olei...\n",
       "1  01.12.Z                                        Uprawa ryżu\n",
       "2  01.13.Z  Uprawa warzyw, włączając melony oraz uprawa ro...\n",
       "3  01.14.Z                            Uprawa trzciny cukrowej\n",
       "4  01.15.Z                                     Uprawa tytoniu"
      ]
     },
     "execution_count": 5,
     "metadata": {},
     "output_type": "execute_result"
    }
   ],
   "source": [
    "kody.head()"
   ]
  },
  {
   "cell_type": "code",
   "execution_count": 8,
   "metadata": {},
   "outputs": [],
   "source": [
    "#zapis do pliku CSV\n",
    "kody.to_csv('PKD.csv', index = False)"
   ]
  }
 ],
 "metadata": {
  "kernelspec": {
   "display_name": "Python 3",
   "language": "python",
   "name": "python3"
  },
  "language_info": {
   "codemirror_mode": {
    "name": "ipython",
    "version": 3
   },
   "file_extension": ".py",
   "mimetype": "text/x-python",
   "name": "python",
   "nbconvert_exporter": "python",
   "pygments_lexer": "ipython3",
   "version": "3.7.4"
  }
 },
 "nbformat": 4,
 "nbformat_minor": 2
}
