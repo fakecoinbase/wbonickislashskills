{
 "cells": [
  {
   "cell_type": "markdown",
   "metadata": {},
   "source": [
    "## Skrypt ilustrujący przebieg postępowania przy analizie plików json zawierających dane przedsiębiorstw z bazy KRS"
   ]
  },
  {
   "cell_type": "code",
   "execution_count": 9,
   "metadata": {},
   "outputs": [],
   "source": [
    "import pandas as pd\n",
    "import glob\n",
    "# from pandas.io.json import json_normalize\n",
    "import json\n",
    "import numpy as np\n",
    "pd.set_option('display.max_columns',28)\n",
    "pd.set_option('display.max_rows',100)\n",
    "pd.set_option('display.max_colwidth',60)"
   ]
  },
  {
   "cell_type": "code",
   "execution_count": 10,
   "metadata": {},
   "outputs": [],
   "source": [
    "#stworzenie pustej tabeli\n",
    "df=pd.DataFrame(columns=['nazwa','miasto','branza','kod'])"
   ]
  },
  {
   "cell_type": "code",
   "execution_count": 14,
   "metadata": {},
   "outputs": [],
   "source": [
    "#ścieżka do plików json, znajdujących się na dysku\n",
    "path = r'C:/Users/Bonias/Desktop/github/przedsiębiorstwa' \n",
    "all_files = glob.glob(path + \"/*.json\")\n",
    "\n",
    "#pętla wczytująca po kolei wszystkie pliki i wyciągająca z nich pożądane dane - nazwę przedsiębiorstwa, miasto, branżę i kod branży\n",
    "#dla przykładu wczytane zostaną dwa pliki\n",
    "for filename in all_files:\n",
    "    with open(filename) as data_file:    \n",
    "        data = json.load(data_file)\n",
    "        try:\n",
    "            klucze=list(data['fields']['przedmiot_pozostalej_dzialalnosci_przedsiebiorcy']['_childs'].keys())\n",
    "        except Exception as e:\n",
    "            continue\n",
    "        for i in klucze:\n",
    "            n=data['name']\n",
    "            c=data['address']['city']\n",
    "            try:\n",
    "                k=data['fields']['przedmiot_pozostalej_dzialalnosci_przedsiebiorcy']['_childs'][i]['_value']['symbol']\n",
    "            except Exception as e:\n",
    "                k=None\n",
    "            try:\n",
    "                b=data['fields']['przedmiot_pozostalej_dzialalnosci_przedsiebiorcy']['_childs'][i]['_value']['title']\n",
    "            except Exception as e:\n",
    "                b=None\n",
    "            \n",
    "            df = df.append({'nazwa': n, 'miasto': c, 'branza': b,'kod':k}, ignore_index=True)"
   ]
  },
  {
   "cell_type": "code",
   "execution_count": 13,
   "metadata": {},
   "outputs": [
    {
     "data": {
      "text/html": [
       "<div>\n",
       "<style scoped>\n",
       "    .dataframe tbody tr th:only-of-type {\n",
       "        vertical-align: middle;\n",
       "    }\n",
       "\n",
       "    .dataframe tbody tr th {\n",
       "        vertical-align: top;\n",
       "    }\n",
       "\n",
       "    .dataframe thead th {\n",
       "        text-align: right;\n",
       "    }\n",
       "</style>\n",
       "<table border=\"1\" class=\"dataframe\">\n",
       "  <thead>\n",
       "    <tr style=\"text-align: right;\">\n",
       "      <th></th>\n",
       "      <th>nazwa</th>\n",
       "      <th>miasto</th>\n",
       "      <th>branza</th>\n",
       "      <th>kod</th>\n",
       "    </tr>\n",
       "  </thead>\n",
       "  <tbody>\n",
       "    <tr>\n",
       "      <td>0</td>\n",
       "      <td>\"LUBREM\" SPÓŁKA JAWNA K. DĘBSKI; J. KLEPACKI W LIKWIDACJI</td>\n",
       "      <td>Lublin</td>\n",
       "      <td>Budownictwo ogólne i inżynieria lądowa</td>\n",
       "      <td>[45, 21, None]</td>\n",
       "    </tr>\n",
       "    <tr>\n",
       "      <td>1</td>\n",
       "      <td>\"LUBREM\" SPÓŁKA JAWNA K. DĘBSKI; J. KLEPACKI W LIKWIDACJI</td>\n",
       "      <td>Lublin</td>\n",
       "      <td>Wykonywanie instalacji cieplnych, wodnych, wentylacyjnyc...</td>\n",
       "      <td>[45, 33, None]</td>\n",
       "    </tr>\n",
       "    <tr>\n",
       "      <td>2</td>\n",
       "      <td>\"LUBREM\" SPÓŁKA JAWNA K. DĘBSKI; J. KLEPACKI W LIKWIDACJI</td>\n",
       "      <td>Lublin</td>\n",
       "      <td>Produkcja i dystrybucja ciepła (pary wodnej i gorącej wody)</td>\n",
       "      <td>[40, 30, None]</td>\n",
       "    </tr>\n",
       "    <tr>\n",
       "      <td>3</td>\n",
       "      <td>\"LUBREM\" SPÓŁKA JAWNA K. DĘBSKI; J. KLEPACKI W LIKWIDACJI</td>\n",
       "      <td>Lublin</td>\n",
       "      <td>Produkcja wyrobów betonowych budowlanych</td>\n",
       "      <td>[26, 61, None]</td>\n",
       "    </tr>\n",
       "    <tr>\n",
       "      <td>4</td>\n",
       "      <td>\"LUBREM\" SPÓŁKA JAWNA K. DĘBSKI; J. KLEPACKI W LIKWIDACJI</td>\n",
       "      <td>Lublin</td>\n",
       "      <td>Produkcja wyrobów betonowych i gipsowych pozostałych</td>\n",
       "      <td>[26, 66, None]</td>\n",
       "    </tr>\n",
       "  </tbody>\n",
       "</table>\n",
       "</div>"
      ],
      "text/plain": [
       "                                                       nazwa  miasto  \\\n",
       "0  \"LUBREM\" SPÓŁKA JAWNA K. DĘBSKI; J. KLEPACKI W LIKWIDACJI  Lublin   \n",
       "1  \"LUBREM\" SPÓŁKA JAWNA K. DĘBSKI; J. KLEPACKI W LIKWIDACJI  Lublin   \n",
       "2  \"LUBREM\" SPÓŁKA JAWNA K. DĘBSKI; J. KLEPACKI W LIKWIDACJI  Lublin   \n",
       "3  \"LUBREM\" SPÓŁKA JAWNA K. DĘBSKI; J. KLEPACKI W LIKWIDACJI  Lublin   \n",
       "4  \"LUBREM\" SPÓŁKA JAWNA K. DĘBSKI; J. KLEPACKI W LIKWIDACJI  Lublin   \n",
       "\n",
       "                                                        branza             kod  \n",
       "0                       Budownictwo ogólne i inżynieria lądowa  [45, 21, None]  \n",
       "1  Wykonywanie instalacji cieplnych, wodnych, wentylacyjnyc...  [45, 33, None]  \n",
       "2  Produkcja i dystrybucja ciepła (pary wodnej i gorącej wody)  [40, 30, None]  \n",
       "3                     Produkcja wyrobów betonowych budowlanych  [26, 61, None]  \n",
       "4         Produkcja wyrobów betonowych i gipsowych pozostałych  [26, 66, None]  "
      ]
     },
     "execution_count": 13,
     "metadata": {},
     "output_type": "execute_result"
    }
   ],
   "source": [
    "df.head()"
   ]
  },
  {
   "cell_type": "code",
   "execution_count": 7,
   "metadata": {},
   "outputs": [],
   "source": [
    "#zapis do csv\n",
    "df.to_csv('nazwa1.csv',index=False)"
   ]
  },
  {
   "cell_type": "code",
   "execution_count": 8,
   "metadata": {},
   "outputs": [],
   "source": []
  }
 ],
 "metadata": {
  "kernelspec": {
   "display_name": "Python 3",
   "language": "python",
   "name": "python3"
  },
  "language_info": {
   "codemirror_mode": {
    "name": "ipython",
    "version": 3
   },
   "file_extension": ".py",
   "mimetype": "text/x-python",
   "name": "python",
   "nbconvert_exporter": "python",
   "pygments_lexer": "ipython3",
   "version": "3.7.4"
  }
 },
 "nbformat": 4,
 "nbformat_minor": 2
}
