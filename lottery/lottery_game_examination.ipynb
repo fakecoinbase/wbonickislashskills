{
 "cells": [
  {
   "cell_type": "markdown",
   "metadata": {},
   "source": [
    "## Duży lotek is a lottery game where a player selects six numbers. During the lotter 49 numbers are drawn. The prize depends on a number of matches ( there must be three at least).\n",
    "## In this notebook I want to check if there is any system that enhances chance of winning a prize. 6408 lottery results are examinated."
   ]
  },
  {
   "cell_type": "code",
   "execution_count": 1,
   "metadata": {},
   "outputs": [],
   "source": [
    "import numpy as np\n",
    "import pandas as pd\n",
    "import matplotlib.pyplot as plt\n",
    "import seaborn as sns\n"
   ]
  },
  {
   "cell_type": "markdown",
   "metadata": {},
   "source": [
    "## Importing the data from a website"
   ]
  },
  {
   "cell_type": "code",
   "execution_count": 2,
   "metadata": {},
   "outputs": [],
   "source": [
    "data=pd.read_csv('http://www.mbnet.com.pl/dl.txt',header=None)"
   ]
  },
  {
   "cell_type": "code",
   "execution_count": 3,
   "metadata": {
    "scrolled": true
   },
   "outputs": [
    {
     "data": {
      "text/html": [
       "<div>\n",
       "<style scoped>\n",
       "    .dataframe tbody tr th:only-of-type {\n",
       "        vertical-align: middle;\n",
       "    }\n",
       "\n",
       "    .dataframe tbody tr th {\n",
       "        vertical-align: top;\n",
       "    }\n",
       "\n",
       "    .dataframe thead th {\n",
       "        text-align: right;\n",
       "    }\n",
       "</style>\n",
       "<table border=\"1\" class=\"dataframe\">\n",
       "  <thead>\n",
       "    <tr style=\"text-align: right;\">\n",
       "      <th></th>\n",
       "      <th>0</th>\n",
       "      <th>1</th>\n",
       "      <th>2</th>\n",
       "      <th>3</th>\n",
       "      <th>4</th>\n",
       "      <th>5</th>\n",
       "    </tr>\n",
       "  </thead>\n",
       "  <tbody>\n",
       "    <tr>\n",
       "      <td>0</td>\n",
       "      <td>1. 27.01.1957 8</td>\n",
       "      <td>12</td>\n",
       "      <td>31</td>\n",
       "      <td>39</td>\n",
       "      <td>43</td>\n",
       "      <td>45</td>\n",
       "    </tr>\n",
       "    <tr>\n",
       "      <td>1</td>\n",
       "      <td>2. 03.02.1957 5</td>\n",
       "      <td>10</td>\n",
       "      <td>11</td>\n",
       "      <td>22</td>\n",
       "      <td>25</td>\n",
       "      <td>27</td>\n",
       "    </tr>\n",
       "    <tr>\n",
       "      <td>2</td>\n",
       "      <td>3. 10.02.1957 18</td>\n",
       "      <td>19</td>\n",
       "      <td>20</td>\n",
       "      <td>26</td>\n",
       "      <td>45</td>\n",
       "      <td>49</td>\n",
       "    </tr>\n",
       "    <tr>\n",
       "      <td>3</td>\n",
       "      <td>4. 17.02.1957 2</td>\n",
       "      <td>11</td>\n",
       "      <td>14</td>\n",
       "      <td>37</td>\n",
       "      <td>40</td>\n",
       "      <td>45</td>\n",
       "    </tr>\n",
       "    <tr>\n",
       "      <td>4</td>\n",
       "      <td>5. 24.02.1957 8</td>\n",
       "      <td>10</td>\n",
       "      <td>15</td>\n",
       "      <td>35</td>\n",
       "      <td>39</td>\n",
       "      <td>49</td>\n",
       "    </tr>\n",
       "  </tbody>\n",
       "</table>\n",
       "</div>"
      ],
      "text/plain": [
       "                  0   1   2   3   4   5\n",
       "0   1. 27.01.1957 8  12  31  39  43  45\n",
       "1   2. 03.02.1957 5  10  11  22  25  27\n",
       "2  3. 10.02.1957 18  19  20  26  45  49\n",
       "3   4. 17.02.1957 2  11  14  37  40  45\n",
       "4   5. 24.02.1957 8  10  15  35  39  49"
      ]
     },
     "execution_count": 3,
     "metadata": {},
     "output_type": "execute_result"
    }
   ],
   "source": [
    "data.head()"
   ]
  },
  {
   "cell_type": "markdown",
   "metadata": {},
   "source": [
    "### We want the table in the form: index - date, six columns for each number"
   ]
  },
  {
   "cell_type": "code",
   "execution_count": 4,
   "metadata": {},
   "outputs": [],
   "source": [
    "#extracting the first number\n",
    "first_number=data[0].str.extract('(\\d+$)').astype(int)\n",
    "#extracting the date\n",
    "data['date']=data[0].str.extract('(\\d+\\.\\d+\\.\\d+)')"
   ]
  },
  {
   "cell_type": "code",
   "execution_count": 5,
   "metadata": {},
   "outputs": [],
   "source": [
    "data[0]=first_number"
   ]
  },
  {
   "cell_type": "code",
   "execution_count": 6,
   "metadata": {},
   "outputs": [],
   "source": [
    "#changing string type to datetime format\n",
    "data['date']=pd.to_datetime(data['date'],format='%d.%m.%Y')"
   ]
  },
  {
   "cell_type": "code",
   "execution_count": 7,
   "metadata": {},
   "outputs": [],
   "source": [
    "data.index=data['date']\n",
    "del data['date']"
   ]
  },
  {
   "cell_type": "code",
   "execution_count": 8,
   "metadata": {},
   "outputs": [],
   "source": [
    "#renaming the columns name\n",
    "data.rename(columns={0:1,1:2,2:3,3:4,4:5,5:6},inplace=True)"
   ]
  },
  {
   "cell_type": "code",
   "execution_count": 9,
   "metadata": {},
   "outputs": [
    {
     "data": {
      "text/html": [
       "<div>\n",
       "<style scoped>\n",
       "    .dataframe tbody tr th:only-of-type {\n",
       "        vertical-align: middle;\n",
       "    }\n",
       "\n",
       "    .dataframe tbody tr th {\n",
       "        vertical-align: top;\n",
       "    }\n",
       "\n",
       "    .dataframe thead th {\n",
       "        text-align: right;\n",
       "    }\n",
       "</style>\n",
       "<table border=\"1\" class=\"dataframe\">\n",
       "  <thead>\n",
       "    <tr style=\"text-align: right;\">\n",
       "      <th></th>\n",
       "      <th>1</th>\n",
       "      <th>2</th>\n",
       "      <th>3</th>\n",
       "      <th>4</th>\n",
       "      <th>5</th>\n",
       "      <th>6</th>\n",
       "    </tr>\n",
       "    <tr>\n",
       "      <th>date</th>\n",
       "      <th></th>\n",
       "      <th></th>\n",
       "      <th></th>\n",
       "      <th></th>\n",
       "      <th></th>\n",
       "      <th></th>\n",
       "    </tr>\n",
       "  </thead>\n",
       "  <tbody>\n",
       "    <tr>\n",
       "      <td>1957-01-27</td>\n",
       "      <td>8</td>\n",
       "      <td>12</td>\n",
       "      <td>31</td>\n",
       "      <td>39</td>\n",
       "      <td>43</td>\n",
       "      <td>45</td>\n",
       "    </tr>\n",
       "    <tr>\n",
       "      <td>1957-02-03</td>\n",
       "      <td>5</td>\n",
       "      <td>10</td>\n",
       "      <td>11</td>\n",
       "      <td>22</td>\n",
       "      <td>25</td>\n",
       "      <td>27</td>\n",
       "    </tr>\n",
       "    <tr>\n",
       "      <td>1957-02-10</td>\n",
       "      <td>18</td>\n",
       "      <td>19</td>\n",
       "      <td>20</td>\n",
       "      <td>26</td>\n",
       "      <td>45</td>\n",
       "      <td>49</td>\n",
       "    </tr>\n",
       "    <tr>\n",
       "      <td>1957-02-17</td>\n",
       "      <td>2</td>\n",
       "      <td>11</td>\n",
       "      <td>14</td>\n",
       "      <td>37</td>\n",
       "      <td>40</td>\n",
       "      <td>45</td>\n",
       "    </tr>\n",
       "    <tr>\n",
       "      <td>1957-02-24</td>\n",
       "      <td>8</td>\n",
       "      <td>10</td>\n",
       "      <td>15</td>\n",
       "      <td>35</td>\n",
       "      <td>39</td>\n",
       "      <td>49</td>\n",
       "    </tr>\n",
       "  </tbody>\n",
       "</table>\n",
       "</div>"
      ],
      "text/plain": [
       "             1   2   3   4   5   6\n",
       "date                              \n",
       "1957-01-27   8  12  31  39  43  45\n",
       "1957-02-03   5  10  11  22  25  27\n",
       "1957-02-10  18  19  20  26  45  49\n",
       "1957-02-17   2  11  14  37  40  45\n",
       "1957-02-24   8  10  15  35  39  49"
      ]
     },
     "execution_count": 9,
     "metadata": {},
     "output_type": "execute_result"
    }
   ],
   "source": [
    "data.head()"
   ]
  },
  {
   "cell_type": "code",
   "execution_count": 10,
   "metadata": {},
   "outputs": [],
   "source": [
    "#we want to create a table with each number count\n",
    "num_count=pd.concat([data[1].value_counts(),\n",
    "                    data[2].value_counts(),\n",
    "                    data[3].value_counts(),\n",
    "                    data[4].value_counts(),\n",
    "                    data[5].value_counts(),\n",
    "                    data[6].value_counts()],axis=1,join='outer')\n"
   ]
  },
  {
   "cell_type": "code",
   "execution_count": 11,
   "metadata": {},
   "outputs": [
    {
     "data": {
      "text/html": [
       "<div>\n",
       "<style scoped>\n",
       "    .dataframe tbody tr th:only-of-type {\n",
       "        vertical-align: middle;\n",
       "    }\n",
       "\n",
       "    .dataframe tbody tr th {\n",
       "        vertical-align: top;\n",
       "    }\n",
       "\n",
       "    .dataframe thead th {\n",
       "        text-align: right;\n",
       "    }\n",
       "</style>\n",
       "<table border=\"1\" class=\"dataframe\">\n",
       "  <thead>\n",
       "    <tr style=\"text-align: right;\">\n",
       "      <th></th>\n",
       "      <th>1</th>\n",
       "      <th>2</th>\n",
       "      <th>3</th>\n",
       "      <th>4</th>\n",
       "      <th>5</th>\n",
       "      <th>6</th>\n",
       "    </tr>\n",
       "  </thead>\n",
       "  <tbody>\n",
       "    <tr>\n",
       "      <td>1</td>\n",
       "      <td>796.0</td>\n",
       "      <td>NaN</td>\n",
       "      <td>NaN</td>\n",
       "      <td>NaN</td>\n",
       "      <td>NaN</td>\n",
       "      <td>NaN</td>\n",
       "    </tr>\n",
       "    <tr>\n",
       "      <td>2</td>\n",
       "      <td>701.0</td>\n",
       "      <td>80.0</td>\n",
       "      <td>NaN</td>\n",
       "      <td>NaN</td>\n",
       "      <td>NaN</td>\n",
       "      <td>NaN</td>\n",
       "    </tr>\n",
       "    <tr>\n",
       "      <td>3</td>\n",
       "      <td>630.0</td>\n",
       "      <td>145.0</td>\n",
       "      <td>5.0</td>\n",
       "      <td>NaN</td>\n",
       "      <td>NaN</td>\n",
       "      <td>NaN</td>\n",
       "    </tr>\n",
       "    <tr>\n",
       "      <td>4</td>\n",
       "      <td>588.0</td>\n",
       "      <td>217.0</td>\n",
       "      <td>16.0</td>\n",
       "      <td>NaN</td>\n",
       "      <td>NaN</td>\n",
       "      <td>NaN</td>\n",
       "    </tr>\n",
       "    <tr>\n",
       "      <td>5</td>\n",
       "      <td>487.0</td>\n",
       "      <td>247.0</td>\n",
       "      <td>36.0</td>\n",
       "      <td>4.0</td>\n",
       "      <td>NaN</td>\n",
       "      <td>NaN</td>\n",
       "    </tr>\n",
       "  </tbody>\n",
       "</table>\n",
       "</div>"
      ],
      "text/plain": [
       "       1      2     3    4   5   6\n",
       "1  796.0    NaN   NaN  NaN NaN NaN\n",
       "2  701.0   80.0   NaN  NaN NaN NaN\n",
       "3  630.0  145.0   5.0  NaN NaN NaN\n",
       "4  588.0  217.0  16.0  NaN NaN NaN\n",
       "5  487.0  247.0  36.0  4.0 NaN NaN"
      ]
     },
     "execution_count": 11,
     "metadata": {},
     "output_type": "execute_result"
    }
   ],
   "source": [
    "num_count.head()"
   ]
  },
  {
   "cell_type": "code",
   "execution_count": 12,
   "metadata": {},
   "outputs": [],
   "source": [
    "num_count.replace(np.nan,0,inplace=True)"
   ]
  },
  {
   "cell_type": "markdown",
   "metadata": {},
   "source": [
    "### how to interpret the num_count table? number 1 was at the first place 796 times (it could not be at the second place because the numbers are sorted) number 5 was 487 times at the first place, 247 times at the second place and so on"
   ]
  },
  {
   "cell_type": "code",
   "execution_count": 13,
   "metadata": {},
   "outputs": [
    {
     "data": {
      "text/html": [
       "<div>\n",
       "<style scoped>\n",
       "    .dataframe tbody tr th:only-of-type {\n",
       "        vertical-align: middle;\n",
       "    }\n",
       "\n",
       "    .dataframe tbody tr th {\n",
       "        vertical-align: top;\n",
       "    }\n",
       "\n",
       "    .dataframe thead th {\n",
       "        text-align: right;\n",
       "    }\n",
       "</style>\n",
       "<table border=\"1\" class=\"dataframe\">\n",
       "  <thead>\n",
       "    <tr style=\"text-align: right;\">\n",
       "      <th></th>\n",
       "      <th>1</th>\n",
       "      <th>2</th>\n",
       "      <th>3</th>\n",
       "      <th>4</th>\n",
       "      <th>5</th>\n",
       "      <th>6</th>\n",
       "    </tr>\n",
       "  </thead>\n",
       "  <tbody>\n",
       "    <tr>\n",
       "      <td>1</td>\n",
       "      <td>796</td>\n",
       "      <td>0</td>\n",
       "      <td>0</td>\n",
       "      <td>0</td>\n",
       "      <td>0</td>\n",
       "      <td>0</td>\n",
       "    </tr>\n",
       "    <tr>\n",
       "      <td>2</td>\n",
       "      <td>701</td>\n",
       "      <td>80</td>\n",
       "      <td>0</td>\n",
       "      <td>0</td>\n",
       "      <td>0</td>\n",
       "      <td>0</td>\n",
       "    </tr>\n",
       "    <tr>\n",
       "      <td>3</td>\n",
       "      <td>630</td>\n",
       "      <td>145</td>\n",
       "      <td>5</td>\n",
       "      <td>0</td>\n",
       "      <td>0</td>\n",
       "      <td>0</td>\n",
       "    </tr>\n",
       "    <tr>\n",
       "      <td>4</td>\n",
       "      <td>588</td>\n",
       "      <td>217</td>\n",
       "      <td>16</td>\n",
       "      <td>0</td>\n",
       "      <td>0</td>\n",
       "      <td>0</td>\n",
       "    </tr>\n",
       "    <tr>\n",
       "      <td>5</td>\n",
       "      <td>487</td>\n",
       "      <td>247</td>\n",
       "      <td>36</td>\n",
       "      <td>4</td>\n",
       "      <td>0</td>\n",
       "      <td>0</td>\n",
       "    </tr>\n",
       "  </tbody>\n",
       "</table>\n",
       "</div>"
      ],
      "text/plain": [
       "     1    2   3  4  5  6\n",
       "1  796    0   0  0  0  0\n",
       "2  701   80   0  0  0  0\n",
       "3  630  145   5  0  0  0\n",
       "4  588  217  16  0  0  0\n",
       "5  487  247  36  4  0  0"
      ]
     },
     "execution_count": 13,
     "metadata": {},
     "output_type": "execute_result"
    }
   ],
   "source": [
    "num_count=num_count.iloc[:,:].astype(int)\n",
    "num_count.head()"
   ]
  },
  {
   "cell_type": "code",
   "execution_count": 14,
   "metadata": {},
   "outputs": [
    {
     "data": {
      "text/plain": [
       "1     796\n",
       "2     781\n",
       "3     780\n",
       "4     821\n",
       "5     774\n",
       "6     830\n",
       "7     765\n",
       "8     764\n",
       "9     788\n",
       "10    767\n",
       "11    781\n",
       "12    722\n",
       "13    810\n",
       "14    783\n",
       "15    807\n",
       "16    761\n",
       "17    837\n",
       "18    800\n",
       "19    778\n",
       "20    793\n",
       "21    832\n",
       "22    794\n",
       "23    761\n",
       "24    825\n",
       "25    813\n",
       "26    781\n",
       "27    831\n",
       "28    797\n",
       "29    799\n",
       "30    758\n",
       "31    803\n",
       "32    787\n",
       "33    762\n",
       "34    849\n",
       "35    769\n",
       "36    805\n",
       "37    784\n",
       "38    819\n",
       "39    753\n",
       "40    785\n",
       "41    766\n",
       "42    804\n",
       "43    712\n",
       "44    745\n",
       "45    803\n",
       "46    787\n",
       "47    730\n",
       "48    705\n",
       "49    751\n",
       "dtype: int64"
      ]
     },
     "execution_count": 14,
     "metadata": {},
     "output_type": "execute_result"
    }
   ],
   "source": [
    "#now we want to sum all the numbers\n",
    "num_count_sum=num_count.sum(axis=1)\n",
    "num_count_sum"
   ]
  },
  {
   "cell_type": "code",
   "execution_count": 16,
   "metadata": {},
   "outputs": [
    {
     "name": "stdout",
     "output_type": "stream",
     "text": [
      "theoretical chance of drawing a random number during one lotter is 0.122\n",
      "for 6408 draws it is 785.0 times\n",
      "number of 10 was drawn 12370 times for 100000 simulations \n",
      "the chance is 0.1237\n"
     ]
    }
   ],
   "source": [
    "#let's plot the results\n",
    "number=num_count_sum.index\n",
    "count=num_count_sum.values\n",
    "\n",
    "#the theoretical average result for an arbitrary number\n",
    "from scipy.special import binom\n",
    "\n",
    "t_res=binom(48,5)/binom(49,6)\n",
    "print('theoretical chance of drawing a random number during one lotter is {:.3f}'.format(t_res))\n",
    "print('for {} draws it is {} times'.format(data.shape[0],round(t_res*data.shape[0],0)))\n",
    "\n",
    "\n",
    "#let's check the theoretical result with a simulation\n",
    "\n",
    "num=np.arange(1,50)\n",
    "\n",
    "#checking the results for a number 10\n",
    "counter=0\n",
    "#number of draws\n",
    "number_of_drawing=100000\n",
    "for i in range(number_of_drawing):\n",
    "    #drawing 6 numbers out of 49\n",
    "    results_t=np.random.choice(num,6,replace=False)\n",
    "    if 10 in results_t: counter += 1\n",
    "\n",
    "print('number of 10 was drawn {} times for {} simulations '.format(counter,number_of_drawing))\n",
    "print('the chance is {}'.format(counter/number_of_drawing))"
   ]
  },
  {
   "cell_type": "code",
   "execution_count": 17,
   "metadata": {},
   "outputs": [
    {
     "data": {
      "image/png": "[encoded data removed]",
      "text/plain": [
       "<Figure size 1080x720 with 1 Axes>"
      ]
     },
     "metadata": {},
     "output_type": "display_data"
    }
   ],
   "source": [
    "#plotting\n",
    "sns.set(style=\"ticks\", color_codes=True)\n",
    "fig, ax = plt.subplots(figsize=(15,10))\n",
    "res=ax.bar(number,count,align='center',alpha=0.6,color='BurlyWood')\n",
    "ax.axhline(round(t_res*data.shape[0],0), color='DarkBlue', linewidth=2, linestyle='--', label='average of {} draws'.format(data.shape[0]))\n",
    "ax.set(xlim=(0,50),\n",
    "       ylim=(0,count.max()+70),\n",
    "       xlabel='number',\n",
    "       ylabel='count',\n",
    "       xticks=np.arange(1,50),\n",
    "       yticks=np.arange(0,900,50))\n",
    "ax.yaxis.label.set_size(20)\n",
    "ax.xaxis.label.set_size(20)\n",
    "ax.set_title('results of {} draws'.format(data.shape[0]), fontsize=24)\n",
    "ax.legend(loc='upper left')\n",
    "\n",
    "#setting colors for the max and min counts\n",
    "for bar, height in zip(res, count):\n",
    "    if height == count.max():\n",
    "        bar.set(alpha=1)\n",
    "    if height == count.min():\n",
    "        bar.set(alpha=0.25)\n",
    "\n",
    "plt.show()\n"
   ]
  },
  {
   "cell_type": "code",
   "execution_count": 19,
   "metadata": {},
   "outputs": [
    {
     "data": {
      "text/plain": [
       "Int64Index([34, 17, 21, 27, 6, 24], dtype='int64')"
      ]
     },
     "execution_count": 19,
     "metadata": {},
     "output_type": "execute_result"
    }
   ],
   "source": [
    "#top six numbers\n",
    "top6=num_count_sum.nlargest(6).index\n",
    "top6"
   ]
  },
  {
   "cell_type": "code",
   "execution_count": 18,
   "metadata": {},
   "outputs": [],
   "source": [
    "#would it make a sense to select top six numbers for every lottery?\n",
    "res_list=np.array([data[1],data[2],data[3],data[4],data[5],data[6]]).T"
   ]
  },
  {
   "cell_type": "code",
   "execution_count": 20,
   "metadata": {},
   "outputs": [
    {
     "name": "stdout",
     "output_type": "stream",
     "text": [
      "number of 0 matches: 2618 \n",
      "number of 1 matches: 2729 \n",
      "number of 2 matches: 917 \n",
      "number of 3 matches: 135 \n",
      "number of 4 matches: 9 \n"
     ]
    }
   ],
   "source": [
    "top6=np.array(top6)\n",
    "matches=[]\n",
    "for i in res_list:\n",
    "    matches.append(6-np.unique(np.isin(top6,i),return_counts=True)[1][0])\n",
    "m,n=np.unique(matches,return_counts=True)\n",
    "\n",
    "for i,j in zip(m,n):\n",
    "    print('number of {} matches: {} '.format(i,j))\n"
   ]
  },
  {
   "cell_type": "markdown",
   "metadata": {},
   "source": [
    "### conclusion:\n",
    "- 1. it is impossible to create a system of selecting numbers in order to increase chance of winning\n",
    "- 2. There is no point in selecting the six most offen drawn numbers. Ones would get 9 fours and 135 threes\n"
   ]
  }
 ],
 "metadata": {
  "kernelspec": {
   "display_name": "Python 3",
   "language": "python",
   "name": "python3"
  },
  "language_info": {
   "codemirror_mode": {
    "name": "ipython",
    "version": 3
   },
   "file_extension": ".py",
   "mimetype": "text/x-python",
   "name": "python",
   "nbconvert_exporter": "python",
   "pygments_lexer": "ipython3",
   "version": "3.7.4"
  }
 },
 "nbformat": 4,
 "nbformat_minor": 2
}
