{
 "cells": [
  {
   "cell_type": "markdown",
   "metadata": {},
   "source": [
    "## Duży lotek is a lottery game where a player selects six numbers. During the lotter 49 numbers are drawn. The prize depends on the number of matches ( there must be three at least).\n",
    "## In this notebook it is checked if there is any system that enhances chance of winning a prize. 6400 lottery results are examinated. At the end of the notebook some statistical calculations and simulations are performed"
   ]
  },
  {
   "cell_type": "code",
   "execution_count": 1,
   "metadata": {},
   "outputs": [],
   "source": [
    "import numpy as np\n",
    "import pandas as pd\n",
    "import matplotlib.pyplot as plt\n",
    "import seaborn as sns"
   ]
  },
  {
   "cell_type": "markdown",
   "metadata": {},
   "source": [
    "## Importing the data from a website"
   ]
  },
  {
   "cell_type": "code",
   "execution_count": 2,
   "metadata": {},
   "outputs": [],
   "source": [
    "data=pd.read_csv('http://www.mbnet.com.pl/dl.txt',header=None)"
   ]
  },
  {
   "cell_type": "code",
   "execution_count": 3,
   "metadata": {
    "scrolled": true
   },
   "outputs": [
    {
     "data": {
      "text/html": [
       "<div>\n",
       "<style scoped>\n",
       "    .dataframe tbody tr th:only-of-type {\n",
       "        vertical-align: middle;\n",
       "    }\n",
       "\n",
       "    .dataframe tbody tr th {\n",
       "        vertical-align: top;\n",
       "    }\n",
       "\n",
       "    .dataframe thead th {\n",
       "        text-align: right;\n",
       "    }\n",
       "</style>\n",
       "<table border=\"1\" class=\"dataframe\">\n",
       "  <thead>\n",
       "    <tr style=\"text-align: right;\">\n",
       "      <th></th>\n",
       "      <th>0</th>\n",
       "      <th>1</th>\n",
       "      <th>2</th>\n",
       "      <th>3</th>\n",
       "      <th>4</th>\n",
       "      <th>5</th>\n",
       "    </tr>\n",
       "  </thead>\n",
       "  <tbody>\n",
       "    <tr>\n",
       "      <td>0</td>\n",
       "      <td>1. 27.01.1957 8</td>\n",
       "      <td>12</td>\n",
       "      <td>31</td>\n",
       "      <td>39</td>\n",
       "      <td>43</td>\n",
       "      <td>45</td>\n",
       "    </tr>\n",
       "    <tr>\n",
       "      <td>1</td>\n",
       "      <td>2. 03.02.1957 5</td>\n",
       "      <td>10</td>\n",
       "      <td>11</td>\n",
       "      <td>22</td>\n",
       "      <td>25</td>\n",
       "      <td>27</td>\n",
       "    </tr>\n",
       "    <tr>\n",
       "      <td>2</td>\n",
       "      <td>3. 10.02.1957 18</td>\n",
       "      <td>19</td>\n",
       "      <td>20</td>\n",
       "      <td>26</td>\n",
       "      <td>45</td>\n",
       "      <td>49</td>\n",
       "    </tr>\n",
       "    <tr>\n",
       "      <td>3</td>\n",
       "      <td>4. 17.02.1957 2</td>\n",
       "      <td>11</td>\n",
       "      <td>14</td>\n",
       "      <td>37</td>\n",
       "      <td>40</td>\n",
       "      <td>45</td>\n",
       "    </tr>\n",
       "    <tr>\n",
       "      <td>4</td>\n",
       "      <td>5. 24.02.1957 8</td>\n",
       "      <td>10</td>\n",
       "      <td>15</td>\n",
       "      <td>35</td>\n",
       "      <td>39</td>\n",
       "      <td>49</td>\n",
       "    </tr>\n",
       "  </tbody>\n",
       "</table>\n",
       "</div>"
      ],
      "text/plain": [
       "                  0   1   2   3   4   5\n",
       "0   1. 27.01.1957 8  12  31  39  43  45\n",
       "1   2. 03.02.1957 5  10  11  22  25  27\n",
       "2  3. 10.02.1957 18  19  20  26  45  49\n",
       "3   4. 17.02.1957 2  11  14  37  40  45\n",
       "4   5. 24.02.1957 8  10  15  35  39  49"
      ]
     },
     "execution_count": 3,
     "metadata": {},
     "output_type": "execute_result"
    }
   ],
   "source": [
    "data.head()"
   ]
  },
  {
   "cell_type": "markdown",
   "metadata": {},
   "source": [
    "### Changing the table to the form: index - date, six columns for each number"
   ]
  },
  {
   "cell_type": "code",
   "execution_count": 4,
   "metadata": {},
   "outputs": [],
   "source": [
    "#extracting the first number\n",
    "first_number=data[0].str.extract('(\\d+$)').astype(int)\n",
    "#extracting the date\n",
    "data['date']=data[0].str.extract('(\\d+\\.\\d+\\.\\d+)')"
   ]
  },
  {
   "cell_type": "code",
   "execution_count": 5,
   "metadata": {},
   "outputs": [],
   "source": [
    "data[0]=first_number"
   ]
  },
  {
   "cell_type": "code",
   "execution_count": 6,
   "metadata": {},
   "outputs": [],
   "source": [
    "#changing string type to datetime format\n",
    "data['date']=pd.to_datetime(data['date'],format='%d.%m.%Y')"
   ]
  },
  {
   "cell_type": "code",
   "execution_count": 7,
   "metadata": {},
   "outputs": [],
   "source": [
    "data.index=data['date']\n",
    "del data['date']"
   ]
  },
  {
   "cell_type": "code",
   "execution_count": 8,
   "metadata": {},
   "outputs": [],
   "source": [
    "#renaming the columns name\n",
    "data.rename(columns={0:1,1:2,2:3,3:4,4:5,5:6},inplace=True)"
   ]
  },
  {
   "cell_type": "code",
   "execution_count": 71,
   "metadata": {},
   "outputs": [
    {
     "data": {
      "text/html": [
       "<div>\n",
       "<style scoped>\n",
       "    .dataframe tbody tr th:only-of-type {\n",
       "        vertical-align: middle;\n",
       "    }\n",
       "\n",
       "    .dataframe tbody tr th {\n",
       "        vertical-align: top;\n",
       "    }\n",
       "\n",
       "    .dataframe thead th {\n",
       "        text-align: right;\n",
       "    }\n",
       "</style>\n",
       "<table border=\"1\" class=\"dataframe\">\n",
       "  <thead>\n",
       "    <tr style=\"text-align: right;\">\n",
       "      <th></th>\n",
       "      <th>1</th>\n",
       "      <th>2</th>\n",
       "      <th>3</th>\n",
       "      <th>4</th>\n",
       "      <th>5</th>\n",
       "      <th>6</th>\n",
       "    </tr>\n",
       "    <tr>\n",
       "      <th>date</th>\n",
       "      <th></th>\n",
       "      <th></th>\n",
       "      <th></th>\n",
       "      <th></th>\n",
       "      <th></th>\n",
       "      <th></th>\n",
       "    </tr>\n",
       "  </thead>\n",
       "  <tbody>\n",
       "    <tr>\n",
       "      <td>1957-01-27</td>\n",
       "      <td>8</td>\n",
       "      <td>12</td>\n",
       "      <td>31</td>\n",
       "      <td>39</td>\n",
       "      <td>43</td>\n",
       "      <td>45</td>\n",
       "    </tr>\n",
       "    <tr>\n",
       "      <td>1957-02-03</td>\n",
       "      <td>5</td>\n",
       "      <td>10</td>\n",
       "      <td>11</td>\n",
       "      <td>22</td>\n",
       "      <td>25</td>\n",
       "      <td>27</td>\n",
       "    </tr>\n",
       "    <tr>\n",
       "      <td>1957-02-10</td>\n",
       "      <td>18</td>\n",
       "      <td>19</td>\n",
       "      <td>20</td>\n",
       "      <td>26</td>\n",
       "      <td>45</td>\n",
       "      <td>49</td>\n",
       "    </tr>\n",
       "    <tr>\n",
       "      <td>1957-02-17</td>\n",
       "      <td>2</td>\n",
       "      <td>11</td>\n",
       "      <td>14</td>\n",
       "      <td>37</td>\n",
       "      <td>40</td>\n",
       "      <td>45</td>\n",
       "    </tr>\n",
       "    <tr>\n",
       "      <td>1957-02-24</td>\n",
       "      <td>8</td>\n",
       "      <td>10</td>\n",
       "      <td>15</td>\n",
       "      <td>35</td>\n",
       "      <td>39</td>\n",
       "      <td>49</td>\n",
       "    </tr>\n",
       "  </tbody>\n",
       "</table>\n",
       "</div>"
      ],
      "text/plain": [
       "             1   2   3   4   5   6\n",
       "date                              \n",
       "1957-01-27   8  12  31  39  43  45\n",
       "1957-02-03   5  10  11  22  25  27\n",
       "1957-02-10  18  19  20  26  45  49\n",
       "1957-02-17   2  11  14  37  40  45\n",
       "1957-02-24   8  10  15  35  39  49"
      ]
     },
     "execution_count": 71,
     "metadata": {},
     "output_type": "execute_result"
    }
   ],
   "source": [
    "data.head()"
   ]
  },
  {
   "cell_type": "markdown",
   "metadata": {},
   "source": [
    "### Because the lotto game still takes place the results are limited to 6400 (to 14.04.2020)"
   ]
  },
  {
   "cell_type": "code",
   "execution_count": 72,
   "metadata": {},
   "outputs": [
    {
     "data": {
      "text/html": [
       "<div>\n",
       "<style scoped>\n",
       "    .dataframe tbody tr th:only-of-type {\n",
       "        vertical-align: middle;\n",
       "    }\n",
       "\n",
       "    .dataframe tbody tr th {\n",
       "        vertical-align: top;\n",
       "    }\n",
       "\n",
       "    .dataframe thead th {\n",
       "        text-align: right;\n",
       "    }\n",
       "</style>\n",
       "<table border=\"1\" class=\"dataframe\">\n",
       "  <thead>\n",
       "    <tr style=\"text-align: right;\">\n",
       "      <th></th>\n",
       "      <th>1</th>\n",
       "      <th>2</th>\n",
       "      <th>3</th>\n",
       "      <th>4</th>\n",
       "      <th>5</th>\n",
       "      <th>6</th>\n",
       "    </tr>\n",
       "    <tr>\n",
       "      <th>date</th>\n",
       "      <th></th>\n",
       "      <th></th>\n",
       "      <th></th>\n",
       "      <th></th>\n",
       "      <th></th>\n",
       "      <th></th>\n",
       "    </tr>\n",
       "  </thead>\n",
       "  <tbody>\n",
       "    <tr>\n",
       "      <td>2020-04-04</td>\n",
       "      <td>6</td>\n",
       "      <td>8</td>\n",
       "      <td>10</td>\n",
       "      <td>30</td>\n",
       "      <td>33</td>\n",
       "      <td>48</td>\n",
       "    </tr>\n",
       "    <tr>\n",
       "      <td>2020-04-07</td>\n",
       "      <td>15</td>\n",
       "      <td>21</td>\n",
       "      <td>26</td>\n",
       "      <td>33</td>\n",
       "      <td>38</td>\n",
       "      <td>43</td>\n",
       "    </tr>\n",
       "    <tr>\n",
       "      <td>2020-04-09</td>\n",
       "      <td>3</td>\n",
       "      <td>13</td>\n",
       "      <td>14</td>\n",
       "      <td>26</td>\n",
       "      <td>37</td>\n",
       "      <td>38</td>\n",
       "    </tr>\n",
       "    <tr>\n",
       "      <td>2020-04-11</td>\n",
       "      <td>14</td>\n",
       "      <td>19</td>\n",
       "      <td>27</td>\n",
       "      <td>37</td>\n",
       "      <td>41</td>\n",
       "      <td>45</td>\n",
       "    </tr>\n",
       "    <tr>\n",
       "      <td>2020-04-14</td>\n",
       "      <td>8</td>\n",
       "      <td>9</td>\n",
       "      <td>15</td>\n",
       "      <td>21</td>\n",
       "      <td>33</td>\n",
       "      <td>43</td>\n",
       "    </tr>\n",
       "  </tbody>\n",
       "</table>\n",
       "</div>"
      ],
      "text/plain": [
       "             1   2   3   4   5   6\n",
       "date                              \n",
       "2020-04-04   6   8  10  30  33  48\n",
       "2020-04-07  15  21  26  33  38  43\n",
       "2020-04-09   3  13  14  26  37  38\n",
       "2020-04-11  14  19  27  37  41  45\n",
       "2020-04-14   8   9  15  21  33  43"
      ]
     },
     "execution_count": 72,
     "metadata": {},
     "output_type": "execute_result"
    }
   ],
   "source": [
    "data.tail()"
   ]
  },
  {
   "cell_type": "code",
   "execution_count": 73,
   "metadata": {},
   "outputs": [],
   "source": [
    "#a table with each number count\n",
    "num_count=pd.concat([data[1].value_counts(),\n",
    "                    data[2].value_counts(),\n",
    "                    data[3].value_counts(),\n",
    "                    data[4].value_counts(),\n",
    "                    data[5].value_counts(),\n",
    "                    data[6].value_counts()],axis=1,join='outer')\n"
   ]
  },
  {
   "cell_type": "code",
   "execution_count": 74,
   "metadata": {},
   "outputs": [
    {
     "data": {
      "text/html": [
       "<div>\n",
       "<style scoped>\n",
       "    .dataframe tbody tr th:only-of-type {\n",
       "        vertical-align: middle;\n",
       "    }\n",
       "\n",
       "    .dataframe tbody tr th {\n",
       "        vertical-align: top;\n",
       "    }\n",
       "\n",
       "    .dataframe thead th {\n",
       "        text-align: right;\n",
       "    }\n",
       "</style>\n",
       "<table border=\"1\" class=\"dataframe\">\n",
       "  <thead>\n",
       "    <tr style=\"text-align: right;\">\n",
       "      <th></th>\n",
       "      <th>1</th>\n",
       "      <th>2</th>\n",
       "      <th>3</th>\n",
       "      <th>4</th>\n",
       "      <th>5</th>\n",
       "      <th>6</th>\n",
       "    </tr>\n",
       "  </thead>\n",
       "  <tbody>\n",
       "    <tr>\n",
       "      <td>1</td>\n",
       "      <td>793.0</td>\n",
       "      <td>NaN</td>\n",
       "      <td>NaN</td>\n",
       "      <td>NaN</td>\n",
       "      <td>NaN</td>\n",
       "      <td>NaN</td>\n",
       "    </tr>\n",
       "    <tr>\n",
       "      <td>2</td>\n",
       "      <td>700.0</td>\n",
       "      <td>80.0</td>\n",
       "      <td>NaN</td>\n",
       "      <td>NaN</td>\n",
       "      <td>NaN</td>\n",
       "      <td>NaN</td>\n",
       "    </tr>\n",
       "    <tr>\n",
       "      <td>3</td>\n",
       "      <td>629.0</td>\n",
       "      <td>144.0</td>\n",
       "      <td>5.0</td>\n",
       "      <td>NaN</td>\n",
       "      <td>NaN</td>\n",
       "      <td>NaN</td>\n",
       "    </tr>\n",
       "    <tr>\n",
       "      <td>4</td>\n",
       "      <td>588.0</td>\n",
       "      <td>217.0</td>\n",
       "      <td>16.0</td>\n",
       "      <td>NaN</td>\n",
       "      <td>NaN</td>\n",
       "      <td>NaN</td>\n",
       "    </tr>\n",
       "    <tr>\n",
       "      <td>5</td>\n",
       "      <td>487.0</td>\n",
       "      <td>247.0</td>\n",
       "      <td>36.0</td>\n",
       "      <td>4.0</td>\n",
       "      <td>NaN</td>\n",
       "      <td>NaN</td>\n",
       "    </tr>\n",
       "  </tbody>\n",
       "</table>\n",
       "</div>"
      ],
      "text/plain": [
       "       1      2     3    4   5   6\n",
       "1  793.0    NaN   NaN  NaN NaN NaN\n",
       "2  700.0   80.0   NaN  NaN NaN NaN\n",
       "3  629.0  144.0   5.0  NaN NaN NaN\n",
       "4  588.0  217.0  16.0  NaN NaN NaN\n",
       "5  487.0  247.0  36.0  4.0 NaN NaN"
      ]
     },
     "execution_count": 74,
     "metadata": {},
     "output_type": "execute_result"
    }
   ],
   "source": [
    "num_count.head()"
   ]
  },
  {
   "cell_type": "code",
   "execution_count": 75,
   "metadata": {},
   "outputs": [],
   "source": [
    "num_count.replace(np.nan,0,inplace=True)"
   ]
  },
  {
   "cell_type": "markdown",
   "metadata": {},
   "source": [
    "### how to interpret the num_count table? number 1 was at the first place 796 times (it could not be at the second place because the numbers are sorted) number 5 was 487 times at the first place, 247 times at the second place and so on"
   ]
  },
  {
   "cell_type": "code",
   "execution_count": 76,
   "metadata": {},
   "outputs": [
    {
     "data": {
      "text/html": [
       "<div>\n",
       "<style scoped>\n",
       "    .dataframe tbody tr th:only-of-type {\n",
       "        vertical-align: middle;\n",
       "    }\n",
       "\n",
       "    .dataframe tbody tr th {\n",
       "        vertical-align: top;\n",
       "    }\n",
       "\n",
       "    .dataframe thead th {\n",
       "        text-align: right;\n",
       "    }\n",
       "</style>\n",
       "<table border=\"1\" class=\"dataframe\">\n",
       "  <thead>\n",
       "    <tr style=\"text-align: right;\">\n",
       "      <th></th>\n",
       "      <th>1</th>\n",
       "      <th>2</th>\n",
       "      <th>3</th>\n",
       "      <th>4</th>\n",
       "      <th>5</th>\n",
       "      <th>6</th>\n",
       "    </tr>\n",
       "  </thead>\n",
       "  <tbody>\n",
       "    <tr>\n",
       "      <td>1</td>\n",
       "      <td>793</td>\n",
       "      <td>0</td>\n",
       "      <td>0</td>\n",
       "      <td>0</td>\n",
       "      <td>0</td>\n",
       "      <td>0</td>\n",
       "    </tr>\n",
       "    <tr>\n",
       "      <td>2</td>\n",
       "      <td>700</td>\n",
       "      <td>80</td>\n",
       "      <td>0</td>\n",
       "      <td>0</td>\n",
       "      <td>0</td>\n",
       "      <td>0</td>\n",
       "    </tr>\n",
       "    <tr>\n",
       "      <td>3</td>\n",
       "      <td>629</td>\n",
       "      <td>144</td>\n",
       "      <td>5</td>\n",
       "      <td>0</td>\n",
       "      <td>0</td>\n",
       "      <td>0</td>\n",
       "    </tr>\n",
       "    <tr>\n",
       "      <td>4</td>\n",
       "      <td>588</td>\n",
       "      <td>217</td>\n",
       "      <td>16</td>\n",
       "      <td>0</td>\n",
       "      <td>0</td>\n",
       "      <td>0</td>\n",
       "    </tr>\n",
       "    <tr>\n",
       "      <td>5</td>\n",
       "      <td>487</td>\n",
       "      <td>247</td>\n",
       "      <td>36</td>\n",
       "      <td>4</td>\n",
       "      <td>0</td>\n",
       "      <td>0</td>\n",
       "    </tr>\n",
       "  </tbody>\n",
       "</table>\n",
       "</div>"
      ],
      "text/plain": [
       "     1    2   3  4  5  6\n",
       "1  793    0   0  0  0  0\n",
       "2  700   80   0  0  0  0\n",
       "3  629  144   5  0  0  0\n",
       "4  588  217  16  0  0  0\n",
       "5  487  247  36  4  0  0"
      ]
     },
     "execution_count": 76,
     "metadata": {},
     "output_type": "execute_result"
    }
   ],
   "source": [
    "num_count=num_count.iloc[:,:].astype(int)\n",
    "num_count.head()"
   ]
  },
  {
   "cell_type": "code",
   "execution_count": 77,
   "metadata": {},
   "outputs": [
    {
     "data": {
      "text/plain": [
       "1     793\n",
       "2     780\n",
       "3     778\n",
       "4     821\n",
       "5     774\n",
       "6     829\n",
       "7     764\n",
       "8     764\n",
       "9     787\n",
       "10    765\n",
       "11    779\n",
       "12    722\n",
       "13    808\n",
       "14    783\n",
       "15    807\n",
       "16    759\n",
       "17    836\n",
       "18    800\n",
       "19    777\n",
       "20    791\n",
       "21    831\n",
       "22    793\n",
       "23    758\n",
       "24    824\n",
       "25    811\n",
       "26    780\n",
       "27    831\n",
       "28    797\n",
       "29    799\n",
       "30    757\n",
       "31    803\n",
       "32    785\n",
       "33    761\n",
       "34    849\n",
       "35    769\n",
       "36    804\n",
       "37    784\n",
       "38    816\n",
       "39    752\n",
       "40    784\n",
       "41    766\n",
       "42    802\n",
       "43    712\n",
       "44    742\n",
       "45    803\n",
       "46    787\n",
       "47    729\n",
       "48    705\n",
       "49    749\n",
       "dtype: int64"
      ]
     },
     "execution_count": 77,
     "metadata": {},
     "output_type": "execute_result"
    }
   ],
   "source": [
    "#now all the numbers are summed up\n",
    "num_count_sum=num_count.sum(axis=1)\n",
    "num_count_sum"
   ]
  },
  {
   "cell_type": "code",
   "execution_count": 105,
   "metadata": {},
   "outputs": [
    {
     "data": {
      "image/png": "[encoded data removed]",
      "text/plain": [
       "<Figure size 1080x720 with 1 Axes>"
      ]
     },
     "metadata": {},
     "output_type": "display_data"
    }
   ],
   "source": [
    "#visualizing the results\n",
    "number=num_count_sum.index\n",
    "count=num_count_sum.values\n",
    "\n",
    "#this variable is explained in the section with statistics, it is theoretical chance of drawing an arbitrary number in one lottery\n",
    "t_res=binom(48,5)/binom(49,6)\n",
    "\n",
    "#in n=6400 draws the avarage number  for any given number equals t_res * n\n",
    "\n",
    "#plotting\n",
    "sns.set(style=\"ticks\", color_codes=True)\n",
    "fig, ax = plt.subplots(figsize=(15,10))\n",
    "res=ax.bar(number,count,align='center',alpha=0.6,color='BurlyWood')\n",
    "ax.axhline(round(t_res*data.shape[0],0),\n",
    "                 color='DarkBlue', \n",
    "                 linewidth=2, \n",
    "                 linestyle='--', \n",
    "                 label='average of {} draws = {:.0f} '.format(data.shape[0],np.ceil(t_res*data.shape[0])))\n",
    "\n",
    "ax.set(xlim=(0,50),\n",
    "       ylim=(0,count.max()+70),\n",
    "       xlabel='number',\n",
    "       ylabel='count',\n",
    "       xticks=np.arange(1,50),\n",
    "       yticks=np.arange(0,900,50))\n",
    "ax.yaxis.label.set_size(20)\n",
    "ax.xaxis.label.set_size(20)\n",
    "ax.set_title('results of {} draws'.format(data.shape[0]), fontsize=24)\n",
    "ax.legend(loc='upper left')\n",
    "\n",
    "#setting colors for the max and min counts\n",
    "for bar, height in zip(res, count):\n",
    "    if height == count.max():\n",
    "        bar.set(alpha=1)\n",
    "    if height == count.min():\n",
    "        bar.set(alpha=0.25)\n",
    "\n",
    "plt.show()\n",
    "# fig.savefig('lotto.png')"
   ]
  },
  {
   "cell_type": "code",
   "execution_count": 80,
   "metadata": {},
   "outputs": [
    {
     "data": {
      "text/plain": [
       "Int64Index([34, 17, 21, 27, 6, 24], dtype='int64')"
      ]
     },
     "execution_count": 80,
     "metadata": {},
     "output_type": "execute_result"
    }
   ],
   "source": [
    "#top six numbers\n",
    "top6=num_count_sum.nlargest(6).index\n",
    "top6"
   ]
  },
  {
   "cell_type": "markdown",
   "metadata": {},
   "source": [
    "### would it make sense to select top six numbers for every lottery?"
   ]
  },
  {
   "cell_type": "code",
   "execution_count": 82,
   "metadata": {},
   "outputs": [],
   "source": [
    "#creating an array with the results\n",
    "res_list=np.array([data[1],data[2],data[3],data[4],data[5],data[6]]).T"
   ]
  },
  {
   "cell_type": "code",
   "execution_count": 83,
   "metadata": {},
   "outputs": [
    {
     "name": "stdout",
     "output_type": "stream",
     "text": [
      "sum of 0 matches: 2614 \n",
      "sum of 1 matches: 2725 \n",
      "sum of 2 matches: 917 \n",
      "sum of 3 matches: 135 \n",
      "sum of 4 matches: 9 \n"
     ]
    }
   ],
   "source": [
    "top6=np.array(top6)\n",
    "matches=[]\n",
    "for i in res_list:\n",
    "    matches.append(6-np.unique(np.isin(top6,i),return_counts=True)[1][0])\n",
    "m,n=np.unique(matches,return_counts=True)\n",
    "\n",
    "for i,j in zip(m,n):\n",
    "    print('sum of {} matches: {} '.format(i,j))"
   ]
  },
  {
   "cell_type": "markdown",
   "metadata": {},
   "source": [
    "### conclusion:\n",
    "- 1. it is impossible to create a system of selecting numbers in order to increase chance of winning\n",
    "- 2. There is no point in selecting the six most offen drawn numbers. Ones would get 9 fours and 135 threes\n"
   ]
  },
  {
   "cell_type": "markdown",
   "metadata": {},
   "source": [
    "# Statistics"
   ]
  },
  {
   "cell_type": "code",
   "execution_count": 85,
   "metadata": {},
   "outputs": [],
   "source": [
    "from scipy.stats import binom as bn\n",
    "from scipy.special import binom"
   ]
  },
  {
   "cell_type": "markdown",
   "metadata": {},
   "source": [
    "What is the chance that any given number will be drawn in one lottery?"
   ]
  },
  {
   "cell_type": "code",
   "execution_count": 98,
   "metadata": {},
   "outputs": [
    {
     "name": "stdout",
     "output_type": "stream",
     "text": [
      "The chance that any given number will be drawn is 0.122\n",
      "For 6400 draws the avarage number is 784\n"
     ]
    }
   ],
   "source": [
    "p=binom(48,5)/binom(49,6)\n",
    "print('The chance that any given number will be drawn is {:.3f}'.format(p))\n",
    "print('For {} draws the avarage number is {}'.format(data.shape[0],int(round(t_res*data.shape[0],0))))"
   ]
  },
  {
   "cell_type": "code",
   "execution_count": 209,
   "metadata": {},
   "outputs": [
    {
     "name": "stdout",
     "output_type": "stream",
     "text": [
      "number 10 was drawn 12069 times in 100000 simulations \n",
      "it is 0.1207 of all draws\n"
     ]
    }
   ],
   "source": [
    "#a little simulation to prove theoretical calculations\n",
    "num=np.arange(1,50)\n",
    "#checking the results for 10\n",
    "counter=0\n",
    "\n",
    "#number of draws\n",
    "number_of_drawing=100000\n",
    "for i in range(number_of_drawing):\n",
    "    #drawing 6 numbers out of 49\n",
    "    results_t=np.random.choice(num,6,replace=False)\n",
    "    if 10 in results_t: counter += 1\n",
    "\n",
    "print('number 10 was drawn {} times in {} simulations '.format(counter,number_of_drawing))\n",
    "print('it is {:.4f} of all draws'.format(counter/number_of_drawing))"
   ]
  },
  {
   "cell_type": "markdown",
   "metadata": {},
   "source": [
    "### In this subsection the distribution for number of draws for an arbitrary number is shown and numerical experiment is performed - the figure shows what is the mean value for number of draws for 6400 draws. The binominal distribution is used - probability of success is p=0.122, number of experiments is n=6400"
   ]
  },
  {
   "cell_type": "code",
   "execution_count": 206,
   "metadata": {},
   "outputs": [
    {
     "name": "stdout",
     "output_type": "stream",
     "text": [
      "the mean value for 6400 draws is equal 784\n"
     ]
    },
    {
     "data": {
      "image/png": "[encoded data removed]",
      "text/plain": [
       "<Figure size 648x648 with 1 Axes>"
      ]
     },
     "metadata": {},
     "output_type": "display_data"
    }
   ],
   "source": [
    "n=data.shape[0]\n",
    "mean_value=round(n*p)\n",
    "print('the mean value for {} draws is equal {:.0f}'.format(n,mean_value))\n",
    "\n",
    "#probability mass function\n",
    "prob_mass_fun=bn.pmf(k=np.arange(1,n+1),n=n,p=p)\n",
    "\n",
    "plt.figure(figsize=(9,9))\n",
    "plt.plot(np.arange(1,n+1),prob_mass_fun)\n",
    "plt.xlim([0,6400])\n",
    "plt.ylim([0,0.016])\n",
    "plt.title('Probability mass function for the number of draws for {} experiments'.format(n), fontsize=15)\n",
    "plt.xlabel('number of draws')\n",
    "plt.ylabel('probability')\n",
    "plt.show()\n"
   ]
  },
  {
   "cell_type": "markdown",
   "metadata": {},
   "source": [
    "### In this subsection a numerical experiment is performed to confirm the calculated distribution mentioned above. Note: this may take a long time, it's better to load the experiment_results.txt file"
   ]
  },
  {
   "cell_type": "code",
   "execution_count": 119,
   "metadata": {},
   "outputs": [],
   "source": [
    "num=np.arange(1,50)\n",
    "\n",
    "#number of cycles\n",
    "number_of_exp=10000\n",
    "\n",
    "#number of draws in one cucle\n",
    "number_of_drawing=data.shape[0]\n",
    "\n",
    "# #list for results\n",
    "# counter_list=[]\n",
    "# for i in range(number_of_exp):\n",
    "#     counter=0 \n",
    "#     for j in range(number_of_drawing):\n",
    "#         #drawing 6 numbers out of 49\n",
    "#         results_t=np.random.choice(num,6,replace=False)\n",
    "#         if 10 in results_t: counter += 1\n",
    "#     counter_list.append(counter)"
   ]
  },
  {
   "cell_type": "code",
   "execution_count": 121,
   "metadata": {},
   "outputs": [],
   "source": [
    "# np.savetxt(\"experiment.txt\",np.array(counter_list),fmt='%d')\n",
    "counter_list=np.loadtxt('experiment.txt')"
   ]
  },
  {
   "cell_type": "code",
   "execution_count": 208,
   "metadata": {},
   "outputs": [
    {
     "name": "stdout",
     "output_type": "stream",
     "text": [
      "The number that was drawn least times is 48. It was drawn 705 times \n",
      "The interval that contains 99% of all the results is form 717 to 852\n",
      "Probability that a number is drawn less than 706 times in 6400 draws is equal 0.13 %\n"
     ]
    },
    {
     "data": {
      "image/png": "[encoded data removed]",
      "text/plain": [
       "<Figure size 864x864 with 1 Axes>"
      ]
     },
     "metadata": {},
     "output_type": "display_data"
    }
   ],
   "source": [
    "print('The number that was drawn least times is {}. It was drawn {} times '.format(num_count_sum.idxmin(),num_count_sum.min()))\n",
    "low=0.005\n",
    "high=0.995\n",
    "CI_low=bn.ppf(0.005,n,p)\n",
    "CI_high=bn.ppf(0.995,n,p)\n",
    "\n",
    "print('The interval that contains {:.0f}% of all the results is form {:.0f} to {:.0f}'.format((high-low)*100,CI_low,CI_high))\n",
    "print('Probability that a number is drawn less than 706 times in {} draws is equal {:.2f} %'.format(n,100*bn.cdf(num_count_sum.min(),n,p)))\n",
    "\n",
    "plt.figure(figsize=(12,12))\n",
    "plt.plot(np.arange(1,n+1),prob_mass_fun,label='theoretical probability mass function',lw=2,color='red')\n",
    "plt.axvline(CI_low,lw=2,ls='--',color='darkgreen',label='{}% -{}%'.format(100*low,100*high))\n",
    "plt.axvline(CI_high,lw=2,ls='--',color='darkgreen')\n",
    "plt.xlim([600,1000])\n",
    "\n",
    "plt.hist(counter_list,bins=np.arange(650,950,5),density=True, label='experiment results')\n",
    "plt.legend()\n",
    "plt.xlabel('number of draws')\n",
    "plt.ylabel('probability')\n",
    "plt.title('distribution of number of draws for an arbitrary number for {:.0f} draws'.format(data.shape[0]),fontsize=20)\n",
    "plt.show()"
   ]
  },
  {
   "cell_type": "code",
   "execution_count": 210,
   "metadata": {},
   "outputs": [
    {
     "data": {
      "image/png": "[encoded data removed]",
      "text/plain": [
       "<Figure size 1080x720 with 1 Axes>"
      ]
     },
     "metadata": {},
     "output_type": "display_data"
    }
   ],
   "source": [
    "#plotting\n",
    "sns.set(style=\"ticks\", color_codes=True)\n",
    "fig, ax = plt.subplots(figsize=(15,10))\n",
    "res=ax.bar(number,count,align='center',alpha=0.6,color='BurlyWood')\n",
    "ax.axhline(round(t_res*data.shape[0],0),\n",
    "                 color='DarkBlue', \n",
    "                 linewidth=2, \n",
    "                 linestyle='--', \n",
    "                 label='average of {} draws = {:.0f} '.format(data.shape[0],np.ceil(t_res*data.shape[0])))\n",
    "\n",
    "ax.axhline(CI_low,color='DarkBlue',lw=1.5,ls='--',alpha=0.5)\n",
    "ax.axhline(CI_high,color='DarkBlue',lw=1.5,ls='--',alpha=0.5)\n",
    "\n",
    "plt.fill_between(np.arange(51),CI_low,CI_high, where=(CI_low<CI_high),\n",
    "                 interpolate=True, color='darkblue', alpha=0.25,\n",
    "                 label='region of 99% results')\n",
    "\n",
    "\n",
    "ax.set(xlim=(0,50),\n",
    "       ylim=(0,count.max()+70),\n",
    "       xlabel='number',\n",
    "       ylabel='count',\n",
    "       xticks=np.arange(1,50),\n",
    "       yticks=np.arange(0,900,50))\n",
    "ax.yaxis.label.set_size(20)\n",
    "ax.xaxis.label.set_size(20)\n",
    "ax.set_title('results of {} draws'.format(data.shape[0]), fontsize=24)\n",
    "ax.legend(loc='upper left')\n",
    "\n",
    "#setting colors for the max and min counts\n",
    "for bar, height in zip(res, count):\n",
    "    if height == count.max():\n",
    "        bar.set(alpha=1)\n",
    "    if height == count.min():\n",
    "        bar.set(alpha=0.25)\n",
    "\n",
    "plt.show()\n",
    "fig.savefig('lotto.png')"
   ]
  }
 ],
 "metadata": {
  "kernelspec": {
   "display_name": "Python 3",
   "language": "python",
   "name": "python3"
  },
  "language_info": {
   "codemirror_mode": {
    "name": "ipython",
    "version": 3
   },
   "file_extension": ".py",
   "mimetype": "text/x-python",
   "name": "python",
   "nbconvert_exporter": "python",
   "pygments_lexer": "ipython3",
   "version": "3.7.4"
  }
 },
 "nbformat": 4,
 "nbformat_minor": 2
}
