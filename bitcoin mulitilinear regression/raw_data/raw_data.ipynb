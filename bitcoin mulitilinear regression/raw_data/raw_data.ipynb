{
 "cells": [
  {
   "cell_type": "code",
   "execution_count": 30,
   "metadata": {},
   "outputs": [],
   "source": [
    "import pandas as pd\n",
    "import numpy as np\n",
    "from functools import reduce\n",
    "import matplotlib.pyplot as plt"
   ]
  },
  {
   "cell_type": "markdown",
   "metadata": {},
   "source": [
    "# BTC"
   ]
  },
  {
   "cell_type": "code",
   "execution_count": 31,
   "metadata": {},
   "outputs": [],
   "source": [
    "btc=pd.read_csv('Coinbase_BTCUSD_d.csv',header=1)\n",
    "btc['Date']=pd.to_datetime(btc['Date'],format='%Y-%m-%d')\n",
    "btc.set_index('Date',drop=True,inplace=True)\n",
    "btc.drop(columns=['Symbol','Open','High','Low','Volume USD'],inplace=True)\n",
    "btc.rename(columns={'Close':'BTC price [USD]'},inplace=True)\n",
    "btc=btc.iloc[::-1,:]"
   ]
  },
  {
   "cell_type": "markdown",
   "metadata": {},
   "source": [
    "# Gold"
   ]
  },
  {
   "cell_type": "code",
   "execution_count": 32,
   "metadata": {},
   "outputs": [],
   "source": [
    "gold=pd.read_csv('Gold Futures Historical Data20102020maj.csv')\n",
    "gold['Date']=pd.to_datetime(gold['Date'],format='%b %d, %Y')\n",
    "gold.set_index('Date',drop=True,inplace=True)\n",
    "gold.drop(columns=gold.iloc[:,1:],inplace=True)\n",
    "gold.rename(columns={'Price':'Gold price[USD]'},inplace=True)\n",
    "gold=gold.iloc[::-1,:]\n",
    "\n",
    "gold['Gold price[USD]']=gold['Gold price[USD]'].str.replace(\",\",\"\").astype(float)"
   ]
  },
  {
   "cell_type": "markdown",
   "metadata": {},
   "source": [
    "# Oil WTI"
   ]
  },
  {
   "cell_type": "code",
   "execution_count": 33,
   "metadata": {},
   "outputs": [],
   "source": [
    "oil=pd.read_csv('wti-daily_csv.csv')\n",
    "oil['Date']=pd.to_datetime(oil['Date'],format='%Y-%m-%d')\n",
    "oil.set_index('Date',drop=True,inplace=True)\n",
    "oil.rename(columns={'Price':'Oil WTI price[USD]'},inplace=True)"
   ]
  },
  {
   "cell_type": "markdown",
   "metadata": {},
   "source": [
    "# M2 in the USA"
   ]
  },
  {
   "cell_type": "code",
   "execution_count": 34,
   "metadata": {},
   "outputs": [],
   "source": [
    "M2=pd.read_csv('FRB_H6.csv')\n",
    "M2.drop(index=[0,1,2,3,4],columns=M2.iloc[:,1:4],inplace=True)\n",
    "may20 = {'Series Description':'2020-05', 'M2; Not seasonally adjusted':0}\n",
    "M2 = M2.append(may20, ignore_index=True)\n",
    "M2['Series Description']=pd.to_datetime(M2['Series Description'],format='%Y-%m')\n",
    "M2.rename(columns={'Series Description':'Date','M2; Not seasonally adjusted':'M2(Not seasonally adjusted)[1e+09 USD]'},inplace=True)\n",
    "M2.set_index('Date',drop=True,inplace=True)\n",
    "M2=M2.resample('D').ffill()\n",
    "M2.drop(index=[M2.index[-1]],inplace=True)\n",
    "M2['M2(Not seasonally adjusted)[1e+09 USD]']=M2['M2(Not seasonally adjusted)[1e+09 USD]'].astype(float)"
   ]
  },
  {
   "cell_type": "markdown",
   "metadata": {},
   "source": [
    "# SP500"
   ]
  },
  {
   "cell_type": "code",
   "execution_count": 41,
   "metadata": {},
   "outputs": [],
   "source": [
    "SP500=pd.read_csv('GSPC.csv')\n",
    "SP500['Date']=pd.to_datetime(SP500['Date'],format='%Y-%m-%d')\n",
    "SP500.set_index('Date',drop=True,inplace=True)\n",
    "SP500.drop(columns=SP500.iloc[:,:3],inplace=True)\n",
    "SP500.drop(columns=SP500.iloc[:,1:],inplace=True)\n",
    "SP500.rename(columns={'Close':'SP500 close index'},inplace=True)"
   ]
  },
  {
   "cell_type": "markdown",
   "metadata": {},
   "source": [
    "# BTC transactions"
   ]
  },
  {
   "cell_type": "code",
   "execution_count": 42,
   "metadata": {},
   "outputs": [],
   "source": [
    "BTC_tran=pd.read_csv('n-transactions.csv')\n",
    "BTC_tran['Timestamp']=pd.to_datetime(BTC_tran['Timestamp'],format=\"%Y-%m-%d\")\n",
    "BTC_tran.rename(columns={'Timestamp':'Date','n-transactions':'BTC n-transactions'},inplace=True)\n",
    "BTC_tran.set_index('Date',drop=True,inplace=True)\n",
    "BTC_tran=BTC_tran.iloc[::-1,:]\n",
    "BTC_tran=BTC_tran.resample('D').ffill()"
   ]
  },
  {
   "cell_type": "markdown",
   "metadata": {},
   "source": [
    "\n",
    "# Merging"
   ]
  },
  {
   "cell_type": "code",
   "execution_count": 43,
   "metadata": {},
   "outputs": [],
   "source": [
    "def merg(df1,df2,how='left',on='Date'):\n",
    "    df_res=pd.merge(df1,df2,how=how,on=on)\n",
    "    return df_res\n",
    "\n",
    "dfs=[btc,gold,oil,SP500,BTC_tran,M2]\n",
    "BTC_reg=reduce(merg, dfs)\n",
    "BTC_reg.dropna(axis=0,how='any',inplace=True)"
   ]
  },
  {
   "cell_type": "code",
   "execution_count": 44,
   "metadata": {},
   "outputs": [
    {
     "data": {
      "text/html": [
       "<div>\n",
       "<style scoped>\n",
       "    .dataframe tbody tr th:only-of-type {\n",
       "        vertical-align: middle;\n",
       "    }\n",
       "\n",
       "    .dataframe tbody tr th {\n",
       "        vertical-align: top;\n",
       "    }\n",
       "\n",
       "    .dataframe thead th {\n",
       "        text-align: right;\n",
       "    }\n",
       "</style>\n",
       "<table border=\"1\" class=\"dataframe\">\n",
       "  <thead>\n",
       "    <tr style=\"text-align: right;\">\n",
       "      <th></th>\n",
       "      <th>BTC price [USD]</th>\n",
       "      <th>Volume BTC</th>\n",
       "      <th>Gold price[USD]</th>\n",
       "      <th>Oil WTI price[USD]</th>\n",
       "      <th>SP500 close index</th>\n",
       "      <th>BTC n-transactions</th>\n",
       "      <th>M2(Not seasonally adjusted)[1e+09 USD]</th>\n",
       "    </tr>\n",
       "    <tr>\n",
       "      <th>Date</th>\n",
       "      <th></th>\n",
       "      <th></th>\n",
       "      <th></th>\n",
       "      <th></th>\n",
       "      <th></th>\n",
       "      <th></th>\n",
       "      <th></th>\n",
       "    </tr>\n",
       "  </thead>\n",
       "  <tbody>\n",
       "    <tr>\n",
       "      <td>2014-12-01</td>\n",
       "      <td>370.0</td>\n",
       "      <td>0.05656</td>\n",
       "      <td>1332.5</td>\n",
       "      <td>68.98</td>\n",
       "      <td>2053.439941</td>\n",
       "      <td>79098.0</td>\n",
       "      <td>11747.9</td>\n",
       "    </tr>\n",
       "    <tr>\n",
       "      <td>2014-12-02</td>\n",
       "      <td>378.0</td>\n",
       "      <td>15.01000</td>\n",
       "      <td>1314.7</td>\n",
       "      <td>66.99</td>\n",
       "      <td>2066.550049</td>\n",
       "      <td>99419.0</td>\n",
       "      <td>11747.9</td>\n",
       "    </tr>\n",
       "    <tr>\n",
       "      <td>2014-12-03</td>\n",
       "      <td>378.0</td>\n",
       "      <td>0.54660</td>\n",
       "      <td>1325.8</td>\n",
       "      <td>67.30</td>\n",
       "      <td>2074.330078</td>\n",
       "      <td>99419.0</td>\n",
       "      <td>11747.9</td>\n",
       "    </tr>\n",
       "    <tr>\n",
       "      <td>2014-12-04</td>\n",
       "      <td>377.1</td>\n",
       "      <td>0.01000</td>\n",
       "      <td>1324.2</td>\n",
       "      <td>66.73</td>\n",
       "      <td>2071.919922</td>\n",
       "      <td>99419.0</td>\n",
       "      <td>11747.9</td>\n",
       "    </tr>\n",
       "    <tr>\n",
       "      <td>2014-12-05</td>\n",
       "      <td>377.1</td>\n",
       "      <td>0.00000</td>\n",
       "      <td>1310.8</td>\n",
       "      <td>65.89</td>\n",
       "      <td>2075.370117</td>\n",
       "      <td>90900.0</td>\n",
       "      <td>11747.9</td>\n",
       "    </tr>\n",
       "  </tbody>\n",
       "</table>\n",
       "</div>"
      ],
      "text/plain": [
       "            BTC price [USD]  Volume BTC  Gold price[USD]  Oil WTI price[USD]  \\\n",
       "Date                                                                           \n",
       "2014-12-01            370.0     0.05656           1332.5               68.98   \n",
       "2014-12-02            378.0    15.01000           1314.7               66.99   \n",
       "2014-12-03            378.0     0.54660           1325.8               67.30   \n",
       "2014-12-04            377.1     0.01000           1324.2               66.73   \n",
       "2014-12-05            377.1     0.00000           1310.8               65.89   \n",
       "\n",
       "            SP500 close index  BTC n-transactions  \\\n",
       "Date                                                \n",
       "2014-12-01        2053.439941             79098.0   \n",
       "2014-12-02        2066.550049             99419.0   \n",
       "2014-12-03        2074.330078             99419.0   \n",
       "2014-12-04        2071.919922             99419.0   \n",
       "2014-12-05        2075.370117             90900.0   \n",
       "\n",
       "            M2(Not seasonally adjusted)[1e+09 USD]  \n",
       "Date                                                \n",
       "2014-12-01                                 11747.9  \n",
       "2014-12-02                                 11747.9  \n",
       "2014-12-03                                 11747.9  \n",
       "2014-12-04                                 11747.9  \n",
       "2014-12-05                                 11747.9  "
      ]
     },
     "execution_count": 44,
     "metadata": {},
     "output_type": "execute_result"
    }
   ],
   "source": [
    "BTC_reg.head()"
   ]
  }
 ],
 "metadata": {
  "kernelspec": {
   "display_name": "Python 3",
   "language": "python",
   "name": "python3"
  },
  "language_info": {
   "codemirror_mode": {
    "name": "ipython",
    "version": 3
   },
   "file_extension": ".py",
   "mimetype": "text/x-python",
   "name": "python",
   "nbconvert_exporter": "python",
   "pygments_lexer": "ipython3",
   "version": "3.7.4"
  }
 },
 "nbformat": 4,
 "nbformat_minor": 2
}
